{
 "cells": [
  {
   "cell_type": "code",
   "execution_count": 28,
   "metadata": {},
   "outputs": [],
   "source": [
    "#prep problem\n",
    "import numpy as np\n",
    "import math\n",
    "N1 = 10**4\n",
    "N2 = 10**5\n",
    "N3 = 10**6\n",
    "N4 = 10**7\n"
   ]
  },
  {
   "cell_type": "code",
   "execution_count": 40,
   "metadata": {},
   "outputs": [],
   "source": [
    "xs1i = list()\n",
    "ys1i = list()\n",
    "zs1i = list()\n",
    "xs1o = list()\n",
    "ys1o = list()\n",
    "zs1o = list()\n",
    "vs1 = list()\n",
    "vs1i = list()\n",
    "vs1o = list()\n",
    "def sphereEq(x,y,z):\n",
    "    num1 = (x/3)**2\n",
    "    num2 = (y/4)**2\n",
    "    num3 = (z/5)**2\n",
    "    return num1 + num2 + num3\n",
    "def accSum(V,Vav,N):\n",
    "    return V * N - Vav\n",
    "for i in range(N4):\n",
    "    x = np.random.uniform(-3,3)\n",
    "    y = np.random.uniform(-4,4)\n",
    "    z = np.random.uniform(-5,5)\n",
    "    #d = (x,y,z)\n",
    "    #l.append(d)\n",
    "    #xs1.append(x)\n",
    "    #ys1.append(y)\n",
    "    #zs1.append(z)\n",
    "    #check if it is in the sphere\n",
    "    volume = sphereEq(x,y,z)\n",
    "    vs1.append(volume)\n",
    "    if(volume<=1):\n",
    "        xs1i.append(x)\n",
    "        ys1i.append(y)\n",
    "        zs1i.append(z)\n",
    "        vs1i.append(volume)\n",
    "    else:\n",
    "        xs1o.append(x)\n",
    "        ys1o.append(y)\n",
    "        zs1o.append(z)\n",
    "        vs1o.append(volume)\n",
    "#Mesasure accuracy for number of experiences\n",
    "Vol = len(vs1i)/N4 *6*8*10\n",
    "VolAv = 80 * math.pi\n",
    "M = 60\n",
    "tot = 0\n",
    "for i in range(M):\n",
    "    tot += (vs1[i]*i - VolAv)**2\n",
    "std1 = math.sqrt(tot/M)\n"
   ]
  },
  {
   "cell_type": "code",
   "execution_count": 37,
   "metadata": {},
   "outputs": [
    {
     "data": {
      "text/plain": [
       "2.4024886479450887"
      ]
     },
     "execution_count": 37,
     "metadata": {},
     "output_type": "execute_result"
    }
   ],
   "source": [
    "M = 60 \n",
    "mNumbers = list()\n",
    "for i in range(M):\n",
    "    #generate the numbers\n",
    "    xs1i = list()\n",
    "    ys1i = list()\n",
    "    zs1i = list()\n",
    "    xs1o = list()\n",
    "    ys1o = list()\n",
    "    zs1o = list()\n",
    "    vs1 = list()\n",
    "    vs1i = list()\n",
    "    vs1o = list()\n",
    "    for i in range(N1):\n",
    "        x = np.random.uniform(-3,3)\n",
    "        y = np.random.uniform(-4,4)\n",
    "        z = np.random.uniform(-5,5)\n",
    "        #see if in or out\n",
    "        volume = sphereEq(x,y,z)\n",
    "        vs1.append(volume)\n",
    "        if(volume<=1):\n",
    "            xs1i.append(x)\n",
    "            ys1i.append(y)\n",
    "            zs1i.append(z)\n",
    "            vs1i.append(volume)\n",
    "        else:\n",
    "            xs1o.append(x)\n",
    "            ys1o.append(y)\n",
    "            zs1o.append(z)\n",
    "            vs1o.append(volume)\n",
    "    Vol = len(vs1i)/N1 *6*8*10\n",
    "    VolAv = 80 * math.pi\n",
    "    mNumbers.append((Vol - VolAv)**2)\n",
    "mSum = np.sum(mNumbers)\n",
    "std1 = math.sqrt(mSum/M)\n",
    "std1"
   ]
  },
  {
   "cell_type": "code",
   "execution_count": 38,
   "metadata": {},
   "outputs": [
    {
     "data": {
      "text/plain": [
       "0.8450666361212881"
      ]
     },
     "execution_count": 38,
     "metadata": {},
     "output_type": "execute_result"
    }
   ],
   "source": [
    "M = 60 \n",
    "mNumbers = list()\n",
    "for i in range(M):\n",
    "    #generate the numbers\n",
    "    xs1i = list()\n",
    "    ys1i = list()\n",
    "    zs1i = list()\n",
    "    xs1o = list()\n",
    "    ys1o = list()\n",
    "    zs1o = list()\n",
    "    vs1 = list()\n",
    "    vs1i = list()\n",
    "    vs1o = list()\n",
    "    for i in range(N2):\n",
    "        x = np.random.uniform(-3,3)\n",
    "        y = np.random.uniform(-4,4)\n",
    "        z = np.random.uniform(-5,5)\n",
    "        #see if in or out\n",
    "        volume = sphereEq(x,y,z)\n",
    "        vs1.append(volume)\n",
    "        if(volume<=1):\n",
    "            xs1i.append(x)\n",
    "            ys1i.append(y)\n",
    "            zs1i.append(z)\n",
    "            vs1i.append(volume)\n",
    "        else:\n",
    "            xs1o.append(x)\n",
    "            ys1o.append(y)\n",
    "            zs1o.append(z)\n",
    "            vs1o.append(volume)\n",
    "    Vol = len(vs1i)/N2 *6*8*10\n",
    "    VolAv = 80 * math.pi\n",
    "    mNumbers.append((Vol - VolAv)**2)\n",
    "mSum = np.sum(mNumbers)\n",
    "std2 = math.sqrt(mSum/M)\n",
    "std2"
   ]
  },
  {
   "cell_type": "code",
   "execution_count": 39,
   "metadata": {},
   "outputs": [
    {
     "ename": "KeyboardInterrupt",
     "evalue": "",
     "output_type": "error",
     "traceback": [
      "\u001b[1;31m---------------------------------------------------------------------------\u001b[0m",
      "\u001b[1;31mKeyboardInterrupt\u001b[0m                         Traceback (most recent call last)",
      "\u001b[1;32m<ipython-input-39-a65fa9c8f32f>\u001b[0m in \u001b[0;36m<module>\u001b[1;34m()\u001b[0m\n\u001b[0;32m     15\u001b[0m         \u001b[0mx\u001b[0m \u001b[1;33m=\u001b[0m \u001b[0mnp\u001b[0m\u001b[1;33m.\u001b[0m\u001b[0mrandom\u001b[0m\u001b[1;33m.\u001b[0m\u001b[0muniform\u001b[0m\u001b[1;33m(\u001b[0m\u001b[1;33m-\u001b[0m\u001b[1;36m3\u001b[0m\u001b[1;33m,\u001b[0m\u001b[1;36m3\u001b[0m\u001b[1;33m)\u001b[0m\u001b[1;33m\u001b[0m\u001b[0m\n\u001b[0;32m     16\u001b[0m         \u001b[0my\u001b[0m \u001b[1;33m=\u001b[0m \u001b[0mnp\u001b[0m\u001b[1;33m.\u001b[0m\u001b[0mrandom\u001b[0m\u001b[1;33m.\u001b[0m\u001b[0muniform\u001b[0m\u001b[1;33m(\u001b[0m\u001b[1;33m-\u001b[0m\u001b[1;36m4\u001b[0m\u001b[1;33m,\u001b[0m\u001b[1;36m4\u001b[0m\u001b[1;33m)\u001b[0m\u001b[1;33m\u001b[0m\u001b[0m\n\u001b[1;32m---> 17\u001b[1;33m         \u001b[0mz\u001b[0m \u001b[1;33m=\u001b[0m \u001b[0mnp\u001b[0m\u001b[1;33m.\u001b[0m\u001b[0mrandom\u001b[0m\u001b[1;33m.\u001b[0m\u001b[0muniform\u001b[0m\u001b[1;33m(\u001b[0m\u001b[1;33m-\u001b[0m\u001b[1;36m5\u001b[0m\u001b[1;33m,\u001b[0m\u001b[1;36m5\u001b[0m\u001b[1;33m)\u001b[0m\u001b[1;33m\u001b[0m\u001b[0m\n\u001b[0m\u001b[0;32m     18\u001b[0m         \u001b[1;31m#see if in or out\u001b[0m\u001b[1;33m\u001b[0m\u001b[1;33m\u001b[0m\u001b[0m\n\u001b[0;32m     19\u001b[0m         \u001b[0mvolume\u001b[0m \u001b[1;33m=\u001b[0m \u001b[0msphereEq\u001b[0m\u001b[1;33m(\u001b[0m\u001b[0mx\u001b[0m\u001b[1;33m,\u001b[0m\u001b[0my\u001b[0m\u001b[1;33m,\u001b[0m\u001b[0mz\u001b[0m\u001b[1;33m)\u001b[0m\u001b[1;33m\u001b[0m\u001b[0m\n",
      "\u001b[1;31mKeyboardInterrupt\u001b[0m: "
     ]
    }
   ],
   "source": [
    "M = 60 \n",
    "mNumbers = list()\n",
    "for i in range(M):\n",
    "    #generate the numbers\n",
    "    xs1i = list()\n",
    "    ys1i = list()\n",
    "    zs1i = list()\n",
    "    xs1o = list()\n",
    "    ys1o = list()\n",
    "    zs1o = list()\n",
    "    vs1 = list()\n",
    "    vs1i = list()\n",
    "    vs1o = list()\n",
    "    for i in range(N3):\n",
    "        x = np.random.uniform(-3,3)\n",
    "        y = np.random.uniform(-4,4)\n",
    "        z = np.random.uniform(-5,5)\n",
    "        #see if in or out\n",
    "        volume = sphereEq(x,y,z)\n",
    "        vs1.append(volume)\n",
    "        if(volume<=1):\n",
    "            xs1i.append(x)\n",
    "            ys1i.append(y)\n",
    "            zs1i.append(z)\n",
    "            vs1i.append(volume)\n",
    "        else:\n",
    "            xs1o.append(x)\n",
    "            ys1o.append(y)\n",
    "            zs1o.append(z)\n",
    "            vs1o.append(volume)\n",
    "    Vol = len(vs1i)/N3 *6*8*10\n",
    "    VolAv = 80 * math.pi\n",
    "    mNumbers.append((Vol - VolAv)**2)\n",
    "mSum = np.sum(mNumbers)\n",
    "std3 = math.sqrt(mSum/M)\n",
    "std3"
   ]
  }
 ],
 "metadata": {
  "kernelspec": {
   "display_name": "Python 3",
   "language": "python",
   "name": "python3"
  },
  "language_info": {
   "codemirror_mode": {
    "name": "ipython",
    "version": 3
   },
   "file_extension": ".py",
   "mimetype": "text/x-python",
   "name": "python",
   "nbconvert_exporter": "python",
   "pygments_lexer": "ipython3",
   "version": "3.6.4"
  }
 },
 "nbformat": 4,
 "nbformat_minor": 2
}
