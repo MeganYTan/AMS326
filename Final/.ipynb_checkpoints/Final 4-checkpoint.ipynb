{
 "cells": [
  {
   "cell_type": "code",
   "execution_count": 5,
   "metadata": {},
   "outputs": [],
   "source": [
    "#prep problem\n",
    "import numpy as np\n",
    "import math\n",
    "N1 = 10**4\n",
    "N2 = 10**5\n",
    "N3 = 10**6\n",
    "N4 = 10**7\n",
    "def sphereEq(x,y,z):\n",
    "    num1 = (x/3)**2\n",
    "    num2 = (y/4)**2\n",
    "    num3 = (z/5)**2\n",
    "    return num1 + num2 + num3"
   ]
  },
  {
   "cell_type": "code",
   "execution_count": 6,
   "metadata": {},
   "outputs": [
    {
     "data": {
      "text/plain": [
       "2.664994101399157"
      ]
     },
     "execution_count": 6,
     "metadata": {},
     "output_type": "execute_result"
    }
   ],
   "source": [
    "#FOR N1\n",
    "M = 60 \n",
    "mNumbers = list()\n",
    "for i in range(M):\n",
    "    #generate the numbers\n",
    "    xs1i = list()\n",
    "    ys1i = list()\n",
    "    zs1i = list()\n",
    "    xs1o = list()\n",
    "    ys1o = list()\n",
    "    zs1o = list()\n",
    "    vs1 = list()\n",
    "    vs1i = list()\n",
    "    vs1o = list()\n",
    "    for i in range(N1):\n",
    "        x = np.random.uniform(-3,3)\n",
    "        y = np.random.uniform(-4,4)\n",
    "        z = np.random.uniform(-5,5)\n",
    "        #see if in or out\n",
    "        volume = sphereEq(x,y,z)\n",
    "        vs1.append(volume)\n",
    "        if(volume<=1):\n",
    "            xs1i.append(x)\n",
    "            ys1i.append(y)\n",
    "            zs1i.append(z)\n",
    "            vs1i.append(volume)\n",
    "        else:\n",
    "            xs1o.append(x)\n",
    "            ys1o.append(y)\n",
    "            zs1o.append(z)\n",
    "            vs1o.append(volume)\n",
    "    Vol = len(vs1i)/N1 *6*8*10\n",
    "    VolAv = 80 * math.pi\n",
    "    mNumbers.append((Vol - VolAv)**2)\n",
    "mSum = np.sum(mNumbers)\n",
    "std1 = math.sqrt(mSum/M)\n",
    "std1"
   ]
  },
  {
   "cell_type": "code",
   "execution_count": 7,
   "metadata": {},
   "outputs": [
    {
     "data": {
      "text/plain": [
       "0.8205406127625431"
      ]
     },
     "execution_count": 7,
     "metadata": {},
     "output_type": "execute_result"
    }
   ],
   "source": [
    "#for N2\n",
    "M = 60 \n",
    "mNumbers = list()\n",
    "for i in range(M):\n",
    "    #generate the numbers\n",
    "    xs1i = list()\n",
    "    ys1i = list()\n",
    "    zs1i = list()\n",
    "    xs1o = list()\n",
    "    ys1o = list()\n",
    "    zs1o = list()\n",
    "    vs1 = list()\n",
    "    vs1i = list()\n",
    "    vs1o = list()\n",
    "    for i in range(N2):\n",
    "        x = np.random.uniform(-3,3)\n",
    "        y = np.random.uniform(-4,4)\n",
    "        z = np.random.uniform(-5,5)\n",
    "        #see if in or out\n",
    "        volume = sphereEq(x,y,z)\n",
    "        vs1.append(volume)\n",
    "        if(volume<=1):\n",
    "            xs1i.append(x)\n",
    "            ys1i.append(y)\n",
    "            zs1i.append(z)\n",
    "            vs1i.append(volume)\n",
    "        else:\n",
    "            xs1o.append(x)\n",
    "            ys1o.append(y)\n",
    "            zs1o.append(z)\n",
    "            vs1o.append(volume)\n",
    "    Vol = len(vs1i)/N2 *6*8*10\n",
    "    VolAv = 80 * math.pi\n",
    "    mNumbers.append((Vol - VolAv)**2)\n",
    "mSum = np.sum(mNumbers)\n",
    "std2 = math.sqrt(mSum/M)\n",
    "std2"
   ]
  },
  {
   "cell_type": "code",
   "execution_count": 8,
   "metadata": {},
   "outputs": [
    {
     "data": {
      "text/plain": [
       "0.2901661860356478"
      ]
     },
     "execution_count": 8,
     "metadata": {},
     "output_type": "execute_result"
    }
   ],
   "source": [
    "#for N3\n",
    "M = 60 \n",
    "mNumbers = list()\n",
    "for i in range(M):\n",
    "    #generate the numbers\n",
    "    xs1i = list()\n",
    "    ys1i = list()\n",
    "    zs1i = list()\n",
    "    xs1o = list()\n",
    "    ys1o = list()\n",
    "    zs1o = list()\n",
    "    vs1 = list()\n",
    "    vs1i = list()\n",
    "    vs1o = list()\n",
    "    for i in range(N3):\n",
    "        x = np.random.uniform(-3,3)\n",
    "        y = np.random.uniform(-4,4)\n",
    "        z = np.random.uniform(-5,5)\n",
    "        #see if in or out\n",
    "        volume = sphereEq(x,y,z)\n",
    "        vs1.append(volume)\n",
    "        if(volume<=1):\n",
    "            xs1i.append(x)\n",
    "            ys1i.append(y)\n",
    "            zs1i.append(z)\n",
    "            vs1i.append(volume)\n",
    "        else:\n",
    "            xs1o.append(x)\n",
    "            ys1o.append(y)\n",
    "            zs1o.append(z)\n",
    "            vs1o.append(volume)\n",
    "    Vol = len(vs1i)/N3 *6*8*10\n",
    "    VolAv = 80 * math.pi\n",
    "    mNumbers.append((Vol - VolAv)**2)\n",
    "mSum = np.sum(mNumbers)\n",
    "std3 = math.sqrt(mSum/M)\n",
    "std3"
   ]
  },
  {
   "cell_type": "code",
   "execution_count": 9,
   "metadata": {},
   "outputs": [
    {
     "data": {
      "text/plain": [
       "0.06890308948568515"
      ]
     },
     "execution_count": 9,
     "metadata": {},
     "output_type": "execute_result"
    }
   ],
   "source": [
    "#for N4\n",
    "M = 6\n",
    "mNumbers = list()\n",
    "for i in range(M):\n",
    "    \n",
    "    inN = 0\n",
    "    for i in range(N4):\n",
    "        x = np.random.uniform(-3,3)\n",
    "        y = np.random.uniform(-4,4)\n",
    "        z = np.random.uniform(-5,5)\n",
    "        #see if in or out\n",
    "        volume = sphereEq(x,y,z)\n",
    "        #vs1.append(volume)\n",
    "        if(volume<=1):\n",
    "            inN +=1\n",
    "    Vol = inN/N4 *6*8*10\n",
    "    VolAv = 80 * math.pi\n",
    "    mNumbers.append((Vol - VolAv)**2)\n",
    "mSum = np.sum(mNumbers)\n",
    "std4 = math.sqrt(mSum/M)\n",
    "std4"
   ]
  },
  {
   "cell_type": "code",
   "execution_count": 10,
   "metadata": {},
   "outputs": [
    {
     "name": "stdout",
     "output_type": "stream",
     "text": [
      "N (10000, 100000, 1000000, 10000000)\n",
      "Stds (2.665, 0.8205, 0.2902, 0.0689)\n"
     ]
    }
   ],
   "source": [
    "stds = (round(std1,4),round(std2,4),round(std3,4),\n",
    "        round(std4,4))\n",
    "Ns = (N1,N2,N3,N4)\n",
    "print(\"N\",Ns)\n",
    "print(\"Stds\", stds)"
   ]
  },
  {
   "cell_type": "code",
   "execution_count": 14,
   "metadata": {},
   "outputs": [
    {
     "data": {
      "image/png": "[encoded data removed]",
      "text/plain": [
       "<matplotlib.figure.Figure at 0x103bfd68>"
      ]
     },
     "metadata": {},
     "output_type": "display_data"
    }
   ],
   "source": [
    "import matplotlib.pyplot as plt\n",
    "plt.plot(Ns,stds)\n",
    "plt.ylabel(\"Standard Deviation\")\n",
    "plt.xlabel(\"N\")\n",
    "plt.title(\"Standard Deviation vs N\")\n",
    "plt.show()"
   ]
  }
 ],
 "metadata": {
  "kernelspec": {
   "display_name": "Python 3",
   "language": "python",
   "name": "python3"
  },
  "language_info": {
   "codemirror_mode": {
    "name": "ipython",
    "version": 3
   },
   "file_extension": ".py",
   "mimetype": "text/x-python",
   "name": "python",
   "nbconvert_exporter": "python",
   "pygments_lexer": "ipython3",
   "version": "3.6.4"
  }
 },
 "nbformat": 4,
 "nbformat_minor": 2
}
