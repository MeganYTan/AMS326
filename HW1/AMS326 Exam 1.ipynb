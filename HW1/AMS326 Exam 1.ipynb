{
 "cells": [
  {
   "cell_type": "code",
   "execution_count": 1,
   "metadata": {},
   "outputs": [
    {
     "name": "stdout",
     "output_type": "stream",
     "text": [
      "Root value:  7.72525183694\n",
      "Root value:  4.49340945767\n",
      "Root value:  10.9041216594\n",
      "Root value:  14.0661939086\n"
     ]
    }
   ],
   "source": [
    "import numpy as np\n",
    "def dx(f, x):\n",
    "    return abs(0-f(x))\n",
    " \n",
    "#using newton's method, f is the function, df is its derivative, x0 is the starting points for which we start newton's method\n",
    "#newton's method is done 5 times in this code\n",
    "def newtons_method(f, df, x0):\n",
    "    delta = dx(f, x0)\n",
    "    for i in range (1, 5):\n",
    "        x0 = x0 - f(x0)/df(x0)\n",
    "        delta = dx(f, x0)\n",
    "    print (\"Root value: \", x0)\n",
    "\n",
    "#this is the derivative of the function\n",
    "def df(x):\n",
    "    return 2*np.sin(x)/x**3 - 2*np.cos(x)/x**2 - np.sin(x)/x\n",
    "\n",
    "#this is the function given that we want to find the roots of\n",
    "def f(x):\n",
    "    return np.cos(x)/x - np.sin(x)/x**2\n",
    "\n",
    "#doing newton's method starting with numbers 7,9,11,13 to get 4 roots\n",
    "x0s = [7,9,11,13]\n",
    "for x0 in x0s:\n",
    "    newtons_method(f, df, x0)\n",
    "    "
   ]
  }
 ],
 "metadata": {
  "kernelspec": {
   "display_name": "Python 3",
   "language": "python",
   "name": "python3"
  },
  "language_info": {
   "codemirror_mode": {
    "name": "ipython",
    "version": 3
   },
   "file_extension": ".py",
   "mimetype": "text/x-python",
   "name": "python",
   "nbconvert_exporter": "python",
   "pygments_lexer": "ipython3",
   "version": "3.6.3"
  }
 },
 "nbformat": 4,
 "nbformat_minor": 2
}
