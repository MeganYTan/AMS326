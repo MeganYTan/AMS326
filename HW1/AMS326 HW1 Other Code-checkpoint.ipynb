{
 "cells": [
  {
   "cell_type": "code",
   "execution_count": 1,
   "metadata": {},
   "outputs": [
    {
     "data": {
      "text/plain": [
       "-7.77256138601315"
      ]
     },
     "execution_count": 1,
     "metadata": {},
     "output_type": "execute_result"
    }
   ],
   "source": [
    "from sympy import *\n",
    "from scipy.misc import derivative\n",
    "x, y, z = symbols('x y z')\n",
    "#init_printing(use_unicode=True)\n",
    "def f(x):\n",
    "    return -(x**4)*(sin(x))   +(2.018**(-x**3))-1.984\n",
    "def f1(x):\n",
    "    return sin(x)\n",
    "#diff((2.018**(-x**3))-(x**4)*(np.sin(x**3))-1.984,x)\n",
    "def df(x):\n",
    "    return derivative(f,x)\n",
    "def df1(x):\n",
    "    return -2.10632*(2.018**(-x**3))*(x**2) - 3*(x**6)*np.cos(x**3) - 4*(x**3)*np.sin(x**3)\n",
    "derivative(f,1)"
   ]
  },
  {
   "cell_type": "code",
   "execution_count": 5,
   "metadata": {},
   "outputs": [
    {
     "name": "stdout",
     "output_type": "stream",
     "text": [
      "initial guess is x1= 1.5\n",
      "root is:  -0.861372561856\n",
      "error is:  -9.99887277864e-07\n",
      "number of iterations is:  140\n"
     ]
    }
   ],
   "source": [
    "import numpy as np\n",
    "from scipy.misc import derivative\n",
    "from sympy import *\n",
    "x, y, z = symbols('x y z')\n",
    "init_printing(use_unicode=True)\n",
    "def f(x):\n",
    "    return -(x**4)*(np.sin(x))   +(2.018**(-x**3))-1.984\n",
    "\n",
    "def f1(x):\n",
    "    return -(x**4)*(sin(x))   +(2.018**(-x**3))-1.984\n",
    "\n",
    "def df(x):\n",
    "    return -2.10632*(2.018**(-x**3))*(x**2) - 3*(x**6)*np.cos(x**3) - 4*(x**3)*np.sin(x**3)\n",
    "    #return derivative(f,x)\n",
    "\n",
    "\n",
    "def newtons(x0,delta):\n",
    "    x1=x0\n",
    "    counter = 0\n",
    "    while (abs(f(x0))>delta):\n",
    "        x0=x0 - f(x0)/df(x0)\n",
    "        counter+=1\n",
    "    print('initial guess is x1=',x1)\n",
    "    print('root is: ',x0)\n",
    "    print('error is: ',f(x0))\n",
    "    print('number of iterations is: ', counter)\n",
    "\n",
    "x0s = [1.5]\n",
    "delta = 0.000001\n",
    "for x0 in x0s:\n",
    "    newtons(x0,delta)\n"
   ]
  }
 ],
 "metadata": {
  "kernelspec": {
   "display_name": "Python 3",
   "language": "python",
   "name": "python3"
  },
  "language_info": {
   "codemirror_mode": {
    "name": "ipython",
    "version": 3
   },
   "file_extension": ".py",
   "mimetype": "text/x-python",
   "name": "python",
   "nbconvert_exporter": "python",
   "pygments_lexer": "ipython3",
   "version": "3.6.3"
  }
 },
 "nbformat": 4,
 "nbformat_minor": 2
}
