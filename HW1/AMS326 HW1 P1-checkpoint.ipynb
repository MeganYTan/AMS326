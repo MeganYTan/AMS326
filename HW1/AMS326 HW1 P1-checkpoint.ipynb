{
 "cells": [
  {
   "cell_type": "code",
   "execution_count": 5,
   "metadata": {},
   "outputs": [
    {
     "data": {
      "text/plain": [
       "(4.988565420571309, 4.902546995309186e-13)"
      ]
     },
     "execution_count": 5,
     "metadata": {},
     "output_type": "execute_result"
    }
   ],
   "source": [
    "import scipy as sp\n",
    "import scipy.integrate as integrate \n",
    "import numpy as np\n",
    "def f(x):\n",
    "    return (1+np.exp(-x))**-1\n",
    "result = integrate.quad(lambda x:f(x),-4,5)\n",
    "result"
   ]
  },
  {
   "cell_type": "code",
   "execution_count": 4,
   "metadata": {},
   "outputs": [
    {
     "data": {
      "text/plain": [
       "4.9905"
      ]
     },
     "execution_count": 4,
     "metadata": {},
     "output_type": "execute_result"
    }
   ],
   "source": [
    "#monte carlo simulation\n",
    "#how to get accuracy\n",
    "import scipy as sp\n",
    "import numpy as np\n",
    "#this is the function we want to find the area of\n",
    "def f(x):\n",
    "    return (1+np.exp(-x))**(-1)\n",
    "#this is the number of times the randomly generated y value is less than the function\n",
    "yes = 0\n",
    "#this is the number of times we want to run the simulation\n",
    "n = 10000\n",
    "for i in range (0,n):\n",
    "    x0=np.random.uniform(-4,5)\n",
    "    y=np.random.uniform(0,1)\n",
    "    if y<=f(x0):\n",
    "        yes= yes+1\n",
    "(yes/n)*9"
   ]
  },
  {
   "cell_type": "code",
   "execution_count": 5,
   "metadata": {},
   "outputs": [
    {
     "name": "stdout",
     "output_type": "stream",
     "text": [
      "4.9876714472\n"
     ]
    }
   ],
   "source": [
    "#rectangle method -- mid-point rule\n",
    "import numpy as np\n",
    "def f(x):\n",
    "    return (1+np.exp(-x))**(-1)\n",
    "#use at least n = 33 for accuracy up to 4 sig figs\n",
    "n=10000\n",
    "area=0\n",
    "length = 9/n\n",
    "i=-4\n",
    "counter = 0\n",
    "while counter<n:\n",
    "    height = f(i+length/2)\n",
    "    area += length*height\n",
    "    i+=length\n",
    "    counter+=1\n",
    "print(area)"
   ]
  },
  {
   "cell_type": "code",
   "execution_count": 39,
   "metadata": {},
   "outputs": [
    {
     "name": "stdout",
     "output_type": "stream",
     "text": [
      "4.98850272135\n"
     ]
    }
   ],
   "source": [
    "#rectangle method -- left hand rule\n",
    "import numpy as np\n",
    "def f(x):\n",
    "    return (1+np.exp(-x))**(-1)\n",
    "#use n >= 70000 for accuracy up to 4 sig figs\n",
    "n= 70000\n",
    "area=0\n",
    "length = 9/n\n",
    "i=-4\n",
    "counter = 0\n",
    "while counter<n:\n",
    "    height = f(i)\n",
    "    area += length*height\n",
    "    i+=length\n",
    "    counter+=1\n",
    "print(area)"
   ]
  },
  {
   "cell_type": "code",
   "execution_count": 154,
   "metadata": {},
   "outputs": [
    {
     "data": {
      "text/plain": [
       "0.5294117647058824"
      ]
     },
     "execution_count": 154,
     "metadata": {},
     "output_type": "execute_result"
    }
   ],
   "source": [
    "#still need to estimate number of floating point operations\n",
    "#accuracy needs to be 4 sig figs"
   ]
  }
 ],
 "metadata": {
  "kernelspec": {
   "display_name": "Python 3",
   "language": "python",
   "name": "python3"
  },
  "language_info": {
   "codemirror_mode": {
    "name": "ipython",
    "version": 3
   },
   "file_extension": ".py",
   "mimetype": "text/x-python",
   "name": "python",
   "nbconvert_exporter": "python",
   "pygments_lexer": "ipython3",
   "version": "3.6.3"
  }
 },
 "nbformat": 4,
 "nbformat_minor": 2
}
