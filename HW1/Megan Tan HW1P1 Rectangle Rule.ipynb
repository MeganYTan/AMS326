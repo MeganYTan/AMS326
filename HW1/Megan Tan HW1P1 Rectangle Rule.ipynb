{
 "cells": [
  {
   "cell_type": "code",
   "execution_count": 9,
   "metadata": {},
   "outputs": [
    {
     "name": "stdout",
     "output_type": "stream",
     "text": [
      "4.9886\n"
     ]
    }
   ],
   "source": [
    "#Megan Tan, 110598264, AMS326 HW1\n",
    "#rectangle method -- mid-point rule\n",
    "import numpy as np\n",
    "def f(x):\n",
    "    return (1+np.exp(-x))**(-1)\n",
    "#this is the number of times to run the method\n",
    "n=21\n",
    "#this is the starting point of the problem\n",
    "i=-4\n",
    "#this is the end point to integrate to\n",
    "b = 5\n",
    "length = (b-i)/n\n",
    "#counter is used to run the method up to n times\n",
    "counter = 0\n",
    "area=0\n",
    "while counter<n:\n",
    "    height = f(i+length/2)\n",
    "    area += height\n",
    "    i+=length\n",
    "    counter+=1\n",
    "area *= length\n",
    "print(\"%.4f\" % area)"
   ]
  }
 ],
 "metadata": {
  "kernelspec": {
   "display_name": "Python 3",
   "language": "python",
   "name": "python3"
  },
  "language_info": {
   "codemirror_mode": {
    "name": "ipython",
    "version": 3
   },
   "file_extension": ".py",
   "mimetype": "text/x-python",
   "name": "python",
   "nbconvert_exporter": "python",
   "pygments_lexer": "ipython3",
   "version": "3.6.3"
  }
 },
 "nbformat": 4,
 "nbformat_minor": 2
}
