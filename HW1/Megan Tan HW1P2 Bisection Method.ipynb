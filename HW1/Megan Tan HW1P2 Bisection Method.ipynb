{
 "cells": [
  {
   "cell_type": "code",
   "execution_count": 15,
   "metadata": {},
   "outputs": [
    {
     "name": "stdout",
     "output_type": "stream",
     "text": [
      "initial guess is x1 = 1.5\n",
      "interval chosen is delta = 0.5\n",
      "root is at x = 1.5192\n",
      "number of iterations is: 17\n"
     ]
    }
   ],
   "source": [
    "#Megan Tan, 110598264, AMS326 HW1\n",
    "#This is bisection method \n",
    "import numpy as np\n",
    "#This is the function\n",
    "def f(x):\n",
    "    return (2.018**(-x**3))-(x**4)*(np.sin(x**3))-1.984\n",
    "x1 = 1.5\n",
    "#the delta in the problem\n",
    "interval = 0.5\n",
    "#this is the y value we want the accuracy to\n",
    "accuracy = 0.0001\n",
    "#this is the number of times to run the method, \n",
    "n=100\n",
    "counter = 0\n",
    "a=x1 - interval\n",
    "b=x1+interval\n",
    "c=(a+b)/2\n",
    "while(abs(f(c))>accuracy) and counter<n:\n",
    "    c=(a+b)/2\n",
    "    if f(c)<0:\n",
    "        a=c\n",
    "    else:\n",
    "        b=c\n",
    "    counter+=1\n",
    "print('initial guess is x1 =', x1)\n",
    "print('interval chosen is delta =',interval)\n",
    "print('root is at x =', \"%.4f\"% c)\n",
    "print('number of iterations is:',counter)"
   ]
  }
 ],
 "metadata": {
  "kernelspec": {
   "display_name": "Python 3",
   "language": "python",
   "name": "python3"
  },
  "language_info": {
   "codemirror_mode": {
    "name": "ipython",
    "version": 3
   },
   "file_extension": ".py",
   "mimetype": "text/x-python",
   "name": "python",
   "nbconvert_exporter": "python",
   "pygments_lexer": "ipython3",
   "version": "3.6.3"
  }
 },
 "nbformat": 4,
 "nbformat_minor": 2
}
