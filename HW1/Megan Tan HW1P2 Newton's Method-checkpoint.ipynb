{
 "cells": [
  {
   "cell_type": "code",
   "execution_count": 10,
   "metadata": {},
   "outputs": [
    {
     "name": "stdout",
     "output_type": "stream",
     "text": [
      "initial guess is x1 = 1.5\n",
      "root is at x = 1.5192\n",
      "number of iterations is: 3\n"
     ]
    }
   ],
   "source": [
    "#Megan Tan, 110598264, AMS326 HW1\n",
    "#This is newton's method\n",
    "import numpy as np\n",
    "from scipy.misc import derivative\n",
    "from sympy import *\n",
    "\n",
    "#this is the function we want to find roots of\n",
    "def f(x):\n",
    "    return (2.018**(-x**3))-(x**4)*(np.sin(x**3))-1.984\n",
    "\n",
    "#this is the derivative of the function as computed by hand\n",
    "def df(x):\n",
    "    return -2.10632*(2.018**(-x**3))*(x**2) - 3*(x**6)*np.cos(x**3) - 4*(x**3)*np.sin(x**3)\n",
    "\n",
    "def newtons(x0,delta):\n",
    "    x1=x0\n",
    "    counter = 0\n",
    "    while (abs(f(x0))>delta):\n",
    "        x0=x0 - f(x0)/df(x0)\n",
    "        counter+=1\n",
    "    print('initial guess is x1 =',x1)\n",
    "    print('root is at x =',\"%.4f\" % x0)\n",
    "    print('number of iterations is:', counter)\n",
    "\n",
    "x0s = [1.5]\n",
    "#this is the accuracy we want\n",
    "delta = 0.000001\n",
    "for x0 in x0s:\n",
    "    newtons(x0,delta)"
   ]
  }
 ],
 "metadata": {
  "kernelspec": {
   "display_name": "Python 3",
   "language": "python",
   "name": "python3"
  },
  "language_info": {
   "codemirror_mode": {
    "name": "ipython",
    "version": 3
   },
   "file_extension": ".py",
   "mimetype": "text/x-python",
   "name": "python",
   "nbconvert_exporter": "python",
   "pygments_lexer": "ipython3",
   "version": "3.6.3"
  }
 },
 "nbformat": 4,
 "nbformat_minor": 2
}
