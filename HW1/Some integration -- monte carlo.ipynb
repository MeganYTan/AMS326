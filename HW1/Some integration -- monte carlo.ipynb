{
 "cells": [
  {
   "cell_type": "code",
   "execution_count": 40,
   "metadata": {},
   "outputs": [
    {
     "data": {
      "text/plain": [
       "(1.5707963267948966, 4.611758443474223e-09)"
      ]
     },
     "execution_count": 40,
     "metadata": {},
     "output_type": "execute_result"
    }
   ],
   "source": [
    "import scipy.integrate as integrate\n",
    "import scipy.special as special\n",
    "import numpy as np\n",
    "from numpy import sqrt, sin, cos, pi\n",
    "from scipy.integrate import quad, dblquad\n",
    "#area = dblquad(lambda x, y: x*y, 0, 0.5, lambda x: 0, lambda x: 1-2*x)\n",
    "def f(x):\n",
    "    return 1-(cos(4 * x))\n",
    "result = integrate.quad(lambda x: f(x), 0, 2*pi)\n",
    "answer = (result[0]/4,result[1])\n",
    "answer"
   ]
  },
  {
   "cell_type": "code",
   "execution_count": 41,
   "metadata": {},
   "outputs": [
    {
     "data": {
      "text/plain": [
       "1.570639247162217"
      ]
     },
     "execution_count": 41,
     "metadata": {},
     "output_type": "execute_result"
    }
   ],
   "source": [
    "import numpy as np\n",
    "#integrate f from a to b in N steps\n",
    "def integrate(f, a, b, N):\n",
    "    x = np.linspace(a, b, N)\n",
    "    fx = f(x)\n",
    "    area = np.sum(fx)*(b-a)/N\n",
    "    return area\n",
    "def f(x):\n",
    "    return 1-(cos(4 * x))\n",
    "\n",
    "integrate(lambda x: f(x),0,2*np.pi,10000)/4"
   ]
  },
  {
   "cell_type": "code",
   "execution_count": 43,
   "metadata": {},
   "outputs": [],
   "source": [
    "import numpy as np\n",
    "import random\n",
    "import scipy as sp\n",
    "#generate random number between 0 and 1\n",
    "x=random.random()\n",
    "y=random.random()"
   ]
  },
  {
   "cell_type": "code",
   "execution_count": null,
   "metadata": {},
   "outputs": [],
   "source": [
    "# Numerical Integration using Monte Carlo method\n",
    "# FB - 201006137\n",
    "import math\n",
    "import random\n",
    "\n",
    "# define any function here!\n",
    "def fx(t):\n",
    "    return t**5-4*t**3\n",
    "def fy(t):\n",
    "    return t**2\n",
    "\n",
    "# define any xmin-xmax interval here! (xmin < xmax)\n",
    "xmin = 0.0\n",
    "xmax = 2.0 * math.pi\n",
    "\n",
    "# find ymin-ymax\n",
    "numSteps = 1000000 # bigger the better but slower!\n",
    "ymin = f(xmin)\n",
    "ymax = ymin\n",
    "for i in range(numSteps):\n",
    "    x = xmin + (xmax - xmin) * float(i) / numSteps\n",
    "    y = f(x)\n",
    "    if y < ymin: ymin = y\n",
    "    if y > ymax: ymax = y\n",
    "\n",
    "# Monte Carlo\n",
    "rectArea = (xmax - xmin) * (ymax - ymin)\n",
    "numPoints = 1000000 # bigger the better but slower!\n",
    "ctr = 0\n",
    "for j in range(numPoints):\n",
    "    x = xmin + (xmax - xmin) * random.random()\n",
    "    y = ymin + (ymax - ymin) * random.random()\n",
    "    if math.fabs(y) <= math.fabs(f(x)):\n",
    "    if f(x) > 0 and y > 0 and y <= f(x):\n",
    "        ctr += 1 # area over x-axis is positive\n",
    "    if f(x) < 0 and y < 0 and y >= f(x):\n",
    "        ctr -= 1 # area under x-axis is negative\n",
    "\n",
    "fnArea = rectArea * float(ctr) / numPoints\n",
    "print \"Numerical integration = \" + str(fnArea)"
   ]
  }
 ],
 "metadata": {
  "kernelspec": {
   "display_name": "Python 3",
   "language": "python",
   "name": "python3"
  },
  "language_info": {
   "codemirror_mode": {
    "name": "ipython",
    "version": 3
   },
   "file_extension": ".py",
   "mimetype": "text/x-python",
   "name": "python",
   "nbconvert_exporter": "python",
   "pygments_lexer": "ipython3",
   "version": "3.6.3"
  }
 },
 "nbformat": 4,
 "nbformat_minor": 2
}
