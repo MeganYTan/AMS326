{
 "cells": [
  {
   "cell_type": "code",
   "execution_count": 54,
   "metadata": {},
   "outputs": [
    {
     "name": "stdout",
     "output_type": "stream",
     "text": [
      "-5.503944467965367\n",
      "-9.191055543195468\n",
      "-4.6479006403633765\n",
      "8.340025624257358\n",
      "-9.102120301040586\n",
      "3.8247699562914725\n",
      "6.010814184162978\n",
      "-6.855862180258702\n",
      "0.9464748642253245\n",
      "8.846542158638453\n",
      "5.174889955031119\n",
      "2.41642209866985\n",
      "8.281951205146903\n",
      "-7.679737952771591\n",
      "-4.582652447514013\n",
      "-3.487238675382864\n",
      "6.197618545553205\n",
      "1.7689035065237597\n",
      "-6.202686897960725\n",
      "3.0329047713177886\n",
      "[-14.695000011160834, 3.692124983893981, -5.277350344749113, -0.8450479960957242, 9.793017022863777, 7.591312053700969, 0.6022132523753125, -8.069891122896877, 7.966522052076964, -3.1697821266429367]\n"
     ]
    }
   ],
   "source": [
    "import numpy as np\n",
    "import random\n",
    "from math import *\n",
    "n = 20\n",
    "totals = [0]*20 #totals store the numbers in each range \n",
    "percentages = [0.0]*20 #percentages is from total to calculate the percentages #THIS DOESNT CHANGE\n",
    "sumOverNumbers = [0]*10 #this is to sum numbers in intervals of 20 \n",
    "##notneded?bins = np.arange(5000000)\n",
    "total = 0\n",
    "#q1,q2, q5 part 1\n",
    "for i in range(0,n):\n",
    "    x=np.random.uniform(-10,10)#1 THIS IS CORRECT\n",
    "    totals[(floor(x))+10]+=1#2  part1 THIS IS CORRECT\n",
    "    sumOverNumbers[floor(i/2)] =sumOverNumbers[floor(i/2)] +x #4 THIS IS CORRECT\n",
    "    print (x)\n",
    "print(sumOverNumbers)"
   ]
  },
  {
   "cell_type": "code",
   "execution_count": 61,
   "metadata": {},
   "outputs": [
    {
     "name": "stdout",
     "output_type": "stream",
     "text": [
      "sumOverNumbers[i] -14.695000011160834\n",
      "2\n",
      "sumOverNumbers[i] 3.692124983893981\n",
      "11\n",
      "sumOverNumbers[i] -5.277350344749113\n",
      "7\n",
      "sumOverNumbers[i] -0.8450479960957242\n",
      "9\n",
      "sumOverNumbers[i] 9.793017022863777\n",
      "14\n",
      "sumOverNumbers[i] 7.591312053700969\n",
      "13\n",
      "sumOverNumbers[i] 0.6022132523753125\n",
      "10\n",
      "sumOverNumbers[i] -8.069891122896877\n",
      "5\n",
      "sumOverNumbers[i] 7.966522052076964\n",
      "13\n",
      "sumOverNumbers[i] -3.1697821266429367\n",
      "8\n",
      "[0, 0, 1, 0, 0, 1, 0, 1, 1, 1, 1, 1, 0, 2, 1, 0, 0, 0, 0, 0]\n",
      "[0.0, 0.0, 10.0, 0.0, 0.0, 10.0, 0.0, 10.0, 10.0, 10.0, 10.0, 10.0, 0.0, 20.0, 10.0, 0.0, 0.0, 0.0, 0.0, 0.0]\n"
     ]
    }
   ],
   "source": [
    "sumOverNumbersBuckets = [0]*20\n",
    "sumOverNumbersPercentages = [0]*len(sumOverNumbersBuckets)\n",
    "for i in range(len(sumOverNumbers)):\n",
    "    print (\"sumOverNumbers[i]\",sumOverNumbers[i])\n",
    "    print(floor((sumOverNumbers[i])/2)+10)\n",
    "    sumOverNumbersBuckets[(floor((sumOverNumbers[i])/2)+10)] +=1 #5 part 1 formula seems correct\n",
    "    \n",
    "print(sumOverNumbersBuckets)\n",
    "\n",
    "for i in range(len(sumOverNumbersBuckets)):\n",
    "    sumOverNumbersPercentages[i] = sumOverNumbersBuckets[i] /(n/2) *100\n",
    "print(sumOverNumbersPercentages)"
   ]
  },
  {
   "cell_type": "code",
   "execution_count": 28,
   "metadata": {},
   "outputs": [
    {
     "name": "stdout",
     "output_type": "stream",
     "text": [
      "[0.0, 2.0, 1.0, 0.0, 0.0, 1.0, 1.0, 1.0, 0.0, 3.0, 1.0, 0.0, 2.0, 1.0, 1.0, 2.0, 2.0, 1.0, 1.0, 0.0]\n",
      "[0.0, 10.0, 5.0, 0.0, 0.0, 5.0, 5.0, 5.0, 0.0, 15.0, 5.0, 0.0, 10.0, 5.0, 5.0, 10.0, 10.0, 5.0, 5.0, 0.0]\n"
     ]
    },
    {
     "data": {
      "text/plain": [
       "5.0"
      ]
     },
     "execution_count": 28,
     "metadata": {},
     "output_type": "execute_result"
    }
   ],
   "source": [
    "print(totals)\n",
    "for i in range(len(totals)):\n",
    "    percentages[i] = (totals[i] /n)*100 #2 part 2 THIS IS CORRECT\n",
    "print(percentages)\n",
    "np.sum(percentages)/len(percentages)#3 THIS IS CORRECT"
   ]
  },
  {
   "cell_type": "raw",
   "metadata": {},
   "source": [
    "from numpy import random, sqrt, log, sin, cos, pi\n",
    "from pylab import show,hist,subplot,figure\n",
    "\n",
    "\n",
    "def gaussian(u1,u2):\n",
    "  z1 = sqrt(-2*log(u1))*cos(2*pi*u2)\n",
    "  z2 = sqrt(-2*log(u1))*sin(2*pi*u2)\n",
    "  return z1,z2\n",
    "\n",
    "u1 = random.rand(1000)\n",
    "u2 = random.rand(1000)\n",
    "\n",
    "# run the transformation\n",
    "z1,z2 = gaussian(u1,u2)\n",
    "\n",
    "# plotting the values before and after the transformation\n",
    "figure()\n",
    "subplot(221) # the first row of graphs\n",
    "hist(u1)     # contains the histograms of u1 and u2 \n",
    "subplot(222)\n",
    "hist(u2)\n",
    "subplot(223) # the second contains\n",
    "hist(z1)     # the histograms of z1 and z2\n",
    "subplot(224)\n",
    "hist(z2)\n",
    "show()"
   ]
  },
  {
   "cell_type": "code",
   "execution_count": 91,
   "metadata": {},
   "outputs": [
    {
     "data": {
      "image/png": "[encoded data removed]",
      "text/plain": [
       "<matplotlib.figure.Figure at 0x8c224a8>"
      ]
     },
     "metadata": {},
     "output_type": "display_data"
    }
   ],
   "source": [
    "from numpy import random, sqrt, log, sin, cos, pi\n",
    "import matplotlib.pyplot as plt\n",
    "n=10000000\n",
    "outOfRange = 0\n",
    "z1s=[]\n",
    "z2s=[] \n",
    "#generate the random numbers\n",
    "x = random.rand(n)\n",
    "y = random.rand(n)\n",
    "\n",
    "#box mueller numbers\n",
    "for i in range(n):\n",
    "    z1 = sqrt(-2*log(x[i])) * sin(2*pi*y[i])\n",
    "    z2 = sqrt(-2*log(x[i])) * cos(2*pi*y[i])\n",
    "    z1s.append(z1)\n",
    "    z2s.append(z2)\n",
    "    if z1 > abs(z1):\n",
    "        outOfRange+=1\n",
    "    if z2>abs(z2):\n",
    "        outOfRange+=1\n",
    "    #count these numbers\n",
    "plt.figure()\n",
    "plt.subplot(221)\n",
    "plt.hist(z1s)\n",
    "plt.subplot(222)\n",
    "plt.hist(z2s)\n",
    "plt.show()"
   ]
  },
  {
   "cell_type": "code",
   "execution_count": 66,
   "metadata": {},
   "outputs": [
    {
     "data": {
      "text/plain": [
       "7.430083556934703"
      ]
     },
     "execution_count": 66,
     "metadata": {},
     "output_type": "execute_result"
    }
   ],
   "source": [
    "#BOX MUELLER\n",
    "import random\n",
    "\n",
    "def generate_normal(mu, sigma):\n",
    "    u = random.random()\n",
    "    v = random.random()\n",
    "\n",
    "    z1 = sqrt(-2 * log(u)) * sin(2 * pi * v)\n",
    "    z2 = sqrt(-2 * log(u)) * cos(2 * pi * v)\n",
    "\n",
    "    x1 = mu + z1 * sigma\n",
    "    x2 = mu + z2 * sigma\n",
    "\n",
    "    return x2\n",
    "generate_normal(5,5)"
   ]
  },
  {
   "cell_type": "code",
   "execution_count": null,
   "metadata": {},
   "outputs": [],
   "source": [
    "#6 normal histogram. This is extra\n",
    "import matplotlib.pyplot as plt\n",
    "rng = np.random.RandomState(10)  # deterministic random data\n",
    "start=np.arange(-200,200,20)\n",
    "\n",
    "\n",
    "plt.figure(figsize=(10,5))\n",
    "plt.hist(gNumbers, bins=start,range=(-200,200))  # arguments are passed to np.histogram\n",
    "plt.title(\"Histogram of numbers in each bucket\")\n",
    "\n",
    "#change the x axis\n",
    "plt.xticks(np.arange(-180,200,20))\n",
    "\n",
    "plt.show()"
   ]
  }
 ],
 "metadata": {
  "kernelspec": {
   "display_name": "Python 3",
   "language": "python",
   "name": "python3"
  },
  "language_info": {
   "codemirror_mode": {
    "name": "ipython",
    "version": 3
   },
   "file_extension": ".py",
   "mimetype": "text/x-python",
   "name": "python",
   "nbconvert_exporter": "python",
   "pygments_lexer": "ipython3",
   "version": "3.6.3"
  }
 },
 "nbformat": 4,
 "nbformat_minor": 2
}
