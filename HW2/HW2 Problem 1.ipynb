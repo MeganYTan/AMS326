{
 "cells": [
  {
   "cell_type": "code",
   "execution_count": 1,
   "metadata": {},
   "outputs": [],
   "source": [
    "#1, part of 2, 4 are here\n",
    "import numpy as np\n",
    "import random\n",
    "from math import *\n",
    "n = 100000000\n",
    "totals = [0.0]*20 #totals store the numbers in each range\n",
    "percentages = [0.0]*20 #percentages is from total to calculate the percentages\n",
    "gNumbers = [0.0]*5000000 #this is to sum numbers in intervals of 20 ecah one known as a gnumber\n",
    "##notneded?bins = np.arange(5000000)\n",
    "#total = 0\n",
    "#q1,q2, q5 part 1\n",
    "for i in range(0,n):\n",
    "    x=np.random.uniform(-10,10)#1 THIS IS CORRECT\n",
    "    totals[(floor(x))+10]+=1#2 part 1 THIS IS CORRECT\n",
    "    gNumbers[floor(i/20)] =gNumbers[floor(i/20)] +x #4"
   ]
  },
  {
   "cell_type": "code",
   "execution_count": 3,
   "metadata": {},
   "outputs": [
    {
     "name": "stdout",
     "output_type": "stream",
     "text": [
      "Problem 2 -- Percent in each interval:\n",
      "[5.003266, 5.00103, 5.002836, 4.998631, 4.999035999999999, 4.998714, 4.997406, 5.004315, 4.997428, 4.995434, 5.000396, 5.0025640000000005, 4.999956, 5.00021, 5.000236999999999, 5.001765, 4.998509, 5.001038, 4.998732, 4.9984969999999995]\n",
      "Problem 3 -- Arithmetic mean of percentages: 5.0\n"
     ]
    }
   ],
   "source": [
    "#2 and 3 are here\n",
    "for i in range(len(totals)):\n",
    "    percentages[i] = (totals[i] /n) *100#2 part 2 -- get each interval's percentage\n",
    "print('Problem 2 -- Percent in each interval:')\n",
    "print(percentages) #2 print\n",
    "print ('Problem 3 -- Arithmetic mean of percentages:', np.sum(percentages)/len(percentages),\"%\") #3 print\n",
    "\n",
    "\n",
    "    "
   ]
  },
  {
   "cell_type": "code",
   "execution_count": 13,
   "metadata": {},
   "outputs": [
    {
     "name": "stdout",
     "output_type": "stream",
     "text": [
      "Problem 5: Table of percentages\n",
      "Interval start         Interval End        Number in interval    Percentage in interval\n",
      "      -200                 -180                       0.0                       0.0 %\n",
      "      -180                 -160                       0.0                       0.0 %\n",
      "      -160                 -140                       0.0                       0.0 %\n",
      "      -140                 -120                       3.0                     6e-05 %\n",
      "      -120                 -100                     169.0                   0.00338 %\n",
      "      -100                  -80                    3979.0                   0.07958 %\n",
      "       -80                  -60                   44163.0                   0.88326 %\n",
      "       -60                  -40                  257564.0                   5.15128 %\n",
      "       -40                  -20                  797392.0                  15.94784 %\n",
      "       -20                    0                 1396986.0                  27.93972 %\n",
      "         0                   20                 1396063.0                  27.92126 %\n",
      "        20                   40                  800134.0                  16.00268 %\n",
      "        40                   60                  255133.0                   5.10266 %\n",
      "        60                   80                   44315.0                    0.8863 %\n",
      "        80                  100                    3944.0                   0.07888 %\n",
      "       100                  120                     151.0                   0.00302 %\n",
      "       120                  140                       4.0                     8e-05 %\n",
      "       140                  160                       0.0                       0.0 %\n",
      "       160                  180                       0.0                       0.0 %\n",
      "       180                  200                       0.0                       0.0 %\n"
     ]
    }
   ],
   "source": [
    "#5 \n",
    "#computation\n",
    "import matplotlib.pyplot as plt\n",
    "gNumbersBuckets = [0.0] * 20\n",
    "gNumbersPercentages = [0.0] * len(gNumbersBuckets)\n",
    "start=np.arange(-200,200,20)\n",
    "for i in range(len(gNumbers)):\n",
    "    gNumbersBuckets[(floor(gNumbers[i]/20)+10)] +=1 #5 part 1\n",
    "#gNumbersBuckets = numpy.histogram(gNumbers, bins=start)\n",
    "\n",
    "for i in range(len(gNumbersBuckets)):\n",
    "    gNumbersPercentages[i] = (gNumbersBuckets[i] / 5000000) *100 #5 part 2\n",
    "#table\n",
    "start=np.arange(-200,200,20)\n",
    "end=np.arange(-180,201,20)\n",
    "print(\"Problem 5: Table of percentages\")\n",
    "print (\"%10s\" % \"Interval start\",\"%20s\" % \"Interval End\",\"%25s\" % \"Number in interval\" ,\"%25s\" % \"Percentage in interval\" )\n",
    "for i in range(len(start)):\n",
    "    print (\"%10s\" % start[i],\"%20s\" % end[i], \"%25s\" % gNumbersBuckets[i],\"%25s\" % round(gNumbersPercentages[i],5),\"%\" )"
   ]
  },
  {
   "cell_type": "code",
   "execution_count": 6,
   "metadata": {},
   "outputs": [
    {
     "data": {
      "image/png": "[encoded data removed]",
      "text/plain": [
       "<matplotlib.figure.Figure at 0x71e8f28>"
      ]
     },
     "metadata": {},
     "output_type": "display_data"
    }
   ],
   "source": [
    "#6 PERCENTAGE HISTOGRAM\n",
    "import matplotlib\n",
    "from numpy.random import randn\n",
    "import matplotlib.pyplot as plt\n",
    "from matplotlib.ticker import FuncFormatter\n",
    "\n",
    "\n",
    "def to_percent(y, position):\n",
    "    # Ignore the passed in position. This has the effect of scaling the default\n",
    "    # tick locations.\n",
    "    y = (y/ 5000000)*100\n",
    "    s = str(y)\n",
    "\n",
    "    # The percent symbol needs escaping in latex\n",
    "    if matplotlib.rcParams['text.usetex'] is True:\n",
    "        return s + r'$\\%$'\n",
    "    else:\n",
    "        return s + '%'\n",
    "\n",
    "start=np.arange(-180,200,20)\n",
    "\n",
    "#histogram\n",
    "plt.figure(figsize=(20,10))\n",
    "plt.hist(gNumbers, bins=start)\n",
    "#convert to percentages\n",
    "formatter = FuncFormatter(to_percent)\n",
    "plt.gca().yaxis.set_major_formatter(formatter)\n",
    "#change x axis to wanted buckets\n",
    "plt.xticks(start)\n",
    "#change title\n",
    "plt.title(\"Histogram of percentages in each bin\")\n",
    "#show histogram\n",
    "plt.show()\n"
   ]
  },
  {
   "cell_type": "code",
   "execution_count": 2,
   "metadata": {},
   "outputs": [
    {
     "data": {
      "text/plain": [
       "<matplotlib.figure.Figure at 0x113ef828>"
      ]
     },
     "metadata": {},
     "output_type": "display_data"
    },
    {
     "name": "stdout",
     "output_type": "stream",
     "text": [
      "Numbers out of range: 8\n"
     ]
    }
   ],
   "source": [
    "#7 Box Mueller\n",
    "import numpy as np\n",
    "from numpy import sqrt, log, sin, cos, pi\n",
    "from pylab import show,hist,subplot,figure\n",
    "import matplotlib.pyplot as plt\n",
    "outOfRange = 0\n",
    "def gaussian(u1,u2):\n",
    "    z1 = sqrt(-2*log(u1))*cos(2*pi*u2)\n",
    "    z2 = sqrt(-2*log(u1))*sin(2*pi*u2)\n",
    "    return z1,z2\n",
    "\n",
    "u1 = np.random.rand(10000000)\n",
    "u2 = np.random.rand(10000000)\n",
    "\n",
    "# run the transformation\n",
    "z1,z2 = gaussian(u1,u2)\n",
    "for i in range(len(z1)):\n",
    "    if abs(z1[i])>5:\n",
    "        outOfRange +=1\n",
    "    if abs(z2[i])>5:\n",
    "        outOfRange +=1\n",
    "\n",
    "plt.figure(figsize=(40,20))\n",
    "xrange = np.arange(-5,6,1)\n",
    "\n",
    "\n",
    "plt.subplot(221) \n",
    "hist1 = np.histogram(z1, bins=xrange,range=(-5,5))\n",
    "plt.hist(z1, bins=xrange,range=(-5,5)) \n",
    "plt.xticks(xrange)\n",
    "plt.title(\"Normal distribution for z1\")\n",
    "\n",
    "  \n",
    "plt.subplot(223)\n",
    "hist2 = np.histogram(z2, bins=xrange,range=(-5,5))\n",
    "plt.hist(z2, bins=xrange,range=(-5,5)) \n",
    "plt.xticks(xrange)\n",
    "plt.title(\"Normal distribution for z2\")\n",
    "\n",
    "\n",
    "plt.show()\n",
    "\n",
    "\n",
    "print(\"Numbers out of range:\", outOfRange)"
   ]
  }
 ],
 "metadata": {
  "kernelspec": {
   "display_name": "Python 3",
   "language": "python",
   "name": "python3"
  },
  "language_info": {
   "codemirror_mode": {
    "name": "ipython",
    "version": 3
   },
   "file_extension": ".py",
   "mimetype": "text/x-python",
   "name": "python",
   "nbconvert_exporter": "python",
   "pygments_lexer": "ipython3",
   "version": "3.6.4"
  }
 },
 "nbformat": 4,
 "nbformat_minor": 2
}
