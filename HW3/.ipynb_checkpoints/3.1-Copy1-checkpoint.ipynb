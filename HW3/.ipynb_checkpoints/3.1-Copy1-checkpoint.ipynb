{
 "cells": [
  {
   "cell_type": "code",
   "execution_count": 195,
   "metadata": {},
   "outputs": [
    {
     "name": "stdout",
     "output_type": "stream",
     "text": [
      "-0.008820358812046796\n"
     ]
    }
   ],
   "source": [
    "#this is calculating going up\n",
    "import math\n",
    "import matplotlib.pyplot as plt\n",
    "import numpy as np\n",
    "m = 0.1\n",
    "v0 = 300#m/s #v(0) = 300\n",
    "sound = 343.2#m/s\n",
    "k = 9.11 * 10**-3\n",
    "g = 9.8#m/s^2\n",
    "# part 1\n",
    "vf = 0\n",
    "h = 0.001\n",
    "def vprime(v):\n",
    "    return  -g  - k/m * v\n",
    "#vn+1 = vn + h *  vprime(v)\n",
    "#so...\n",
    "#v1 = v0 + h * vprime(v0)\n",
    "velocities = list()\n",
    "velocities.append(v0)\n",
    "v=v0\n",
    "while(v>=vf):\n",
    "    v = v + h*vprime(v)\n",
    "    velocities.append(v)\n",
    "#print(v)\n",
    "#actual solution\n",
    "def f(t):\n",
    "    return -107.574 + 407.574* math.e**(-0.0911*t)\n",
    "\n",
    "#this is calculating distance of going up\n",
    "updistance1 = 0\n",
    "updistance2 =0\n",
    "for i in range(len(velocities)):\n",
    "    updistance1 +=(velocities[i] * h)\n",
    "for i in range(len(velocities)-1):\n",
    "    updistance2 +=((velocities[i+1]+velocities[i])/2 * h)\n",
    "updistance =(updistance1+updistance2)/2\n",
    "\n",
    "#this is calculating time going down\n",
    "v02 = 0 #initial velocity. We don't know final velocity\n",
    "def vprime2(v):\n",
    "    return  g  - k/m * v\n",
    "area = 0\n",
    "velocities2 = list()\n",
    "velocities2.append(v02)\n",
    "v = v02\n",
    "area += v*h\n",
    "while (area<updistance):\n",
    "    v = v + h*vprime2(v)\n",
    "    velocities2.append(v)\n",
    "    area += v*h\n",
    "#find how to change distance\n",
    "#find actual solution"
   ]
  },
  {
   "cell_type": "code",
   "execution_count": 170,
   "metadata": {},
   "outputs": [
    {
     "data": {
      "image/png": "[encoded data removed]",
      "text/plain": [
       "<matplotlib.figure.Figure at 0xa6c0a58>"
      ]
     },
     "metadata": {},
     "output_type": "display_data"
    }
   ],
   "source": [
    "#this is graph\n",
    "tvals1 = np.arange(0,len(velocities)*h,h)\n",
    "plt.plot(tvals1,velocities,'b')\n",
    "plt.plot(tvals1,f(tvals1),'g')\n",
    "plt.show()\n"
   ]
  },
  {
   "cell_type": "code",
   "execution_count": 196,
   "metadata": {},
   "outputs": [
    {
     "name": "stdout",
     "output_type": "stream",
     "text": [
      "Time taken to reach top is 14.622 seconds.\n",
      "Total distance to top is 1720.16 meters.\n",
      "Time taken to reach bottom is 25.933 seconds.\n",
      "1720.1859347374725\n",
      "Total time is 40.555 seconds.\n"
     ]
    }
   ],
   "source": [
    "#this\n",
    "print(\"Time taken to reach top is %.3f\" %tvals1[-1], \"seconds.\")#t is 14.6218\n",
    "print(\"Total distance to top is %.2f meters.\" %updistance) #answer is 1720.16\n",
    "print(\"Time taken to reach bottom is %.3f\" %tvals2[-1], \"seconds.\")\n",
    "print(area)\n",
    "print(\"Total time is\", tvals1[-1]+tvals2[-1], \"seconds.\")"
   ]
  },
  {
   "cell_type": "code",
   "execution_count": 193,
   "metadata": {},
   "outputs": [],
   "source": []
  },
  {
   "cell_type": "code",
   "execution_count": 194,
   "metadata": {},
   "outputs": [
    {
     "name": "stdout",
     "output_type": "stream",
     "text": [
      "97.44333843354792\n",
      "97.44333843354792\n",
      "25.933\n",
      "1720.1859347374725\n"
     ]
    }
   ],
   "source": [
    "print(v)\n",
    "print(velocities2[-1])\n",
    "tvals2 = np.arange(0,len(velocities2)*h,h)\n"
   ]
  },
  {
   "cell_type": "code",
   "execution_count": 177,
   "metadata": {},
   "outputs": [
    {
     "data": {
      "image/png": "[encoded data removed]",
      "text/plain": [
       "<matplotlib.figure.Figure at 0xa3c54e0>"
      ]
     },
     "metadata": {},
     "output_type": "display_data"
    }
   ],
   "source": [
    "\n",
    "tvals2 = np.arange(tvals1[-1],(len(velocities2)*h+tvals1[-1]),h)\n",
    "plt.plot(tvals2,velocities2,'b')\n",
    "#plt.plot(tvals1,f(tvals1),'g')\n",
    "plt.show()"
   ]
  },
  {
   "cell_type": "code",
   "execution_count": null,
   "metadata": {},
   "outputs": [],
   "source": [
    "def x_iplus1(xi, h):\n",
    "    return xi + h * "
   ]
  },
  {
   "cell_type": "code",
   "execution_count": 6,
   "metadata": {},
   "outputs": [],
   "source": [
    "import numpy as np\n",
    " \n",
    "# limits: 0.0 <= t <= 2.0\n",
    "a = 0.0\n",
    "b = 2.0\n",
    " \n",
    "# steps\n",
    "N = 10\n",
    " \n",
    "# step-size\n",
    "h = 0.01 #changed\n",
    " \n",
    "# initial value: y(0.0) = 0.5\n",
    "IV = (0.0,0.5)\n",
    " \n",
    "# ordinary differential equation\n",
    "def f( t, v ):\n",
    "    return -g  - k/m * v\n",
    " \n",
    "# make arrays to hold t, and y\n",
    "t = np.arange( a, b+h, h )\n",
    "w = np.zeros((N+1,))\n",
    " \n",
    "# set the initial values\n",
    "t[0], w[0] = IV\n",
    " \n",
    "# apply Euler's method\n",
    "for i in range(1,N+1):\n",
    "    w[i] = w[i-1] + h * f( t[i-1], w[i-1] )\n",
    "     \n",
    "# exact solution\n",
    "def y( t ):\n",
    "    return (t+1.0)**2.0-0.5*np.exp(t)"
   ]
  },
  {
   "cell_type": "code",
   "execution_count": 2,
   "metadata": {},
   "outputs": [],
   "source": [
    "def euler_mthd( f, a, b, N, IV ):\n",
    " \n",
    "    # determine step-size\n",
    "    h = (b-a)/float(N)  \n",
    " \n",
    "    # create mesh                         \n",
    "    t = np.arange( a, b+h, h )\n",
    " \n",
    "    # initialize w               \n",
    "    w = np.zeros((N+1,))\n",
    " \n",
    "    # set initial values                     \n",
    "    t[0], w[0] = IV   \n",
    " \n",
    "    # apply Euler's method                       \n",
    "    for i in range(1,N+1):                       \n",
    "        w[i] = w[i-1] + h * f( t[i-1], w[i-1] )\n",
    "     \n",
    "    return w"
   ]
  },
  {
   "cell_type": "code",
   "execution_count": 7,
   "metadata": {},
   "outputs": [
    {
     "ename": "NameError",
     "evalue": "name 'plot' is not defined",
     "output_type": "error",
     "traceback": [
      "\u001b[1;31m---------------------------------------------------------------------------\u001b[0m",
      "\u001b[1;31mNameError\u001b[0m                                 Traceback (most recent call last)",
      "\u001b[1;32m<ipython-input-7-90aab1fa65f8>\u001b[0m in \u001b[0;36m<module>\u001b[1;34m()\u001b[0m\n\u001b[1;32m----> 1\u001b[1;33m \u001b[0mplot\u001b[0m\u001b[1;33m(\u001b[0m \u001b[0mt\u001b[0m\u001b[1;33m,\u001b[0m \u001b[0mw\u001b[0m\u001b[1;33m,\u001b[0m \u001b[0mlabel\u001b[0m\u001b[1;33m=\u001b[0m\u001b[1;34m'approximation'\u001b[0m \u001b[1;33m)\u001b[0m\u001b[1;33m\u001b[0m\u001b[0m\n\u001b[0m\u001b[0;32m      2\u001b[0m \u001b[0mplot\u001b[0m\u001b[1;33m(\u001b[0m \u001b[0mt\u001b[0m\u001b[1;33m,\u001b[0m \u001b[0my\u001b[0m\u001b[1;33m(\u001b[0m\u001b[0mt\u001b[0m\u001b[1;33m)\u001b[0m\u001b[1;33m,\u001b[0m \u001b[0mlabel\u001b[0m\u001b[1;33m=\u001b[0m\u001b[1;34m'exact'\u001b[0m \u001b[1;33m)\u001b[0m\u001b[1;33m\u001b[0m\u001b[0m\n\u001b[0;32m      3\u001b[0m \u001b[0mtitle\u001b[0m\u001b[1;33m(\u001b[0m \u001b[1;34m\"Euler's Method Example, N=\"\u001b[0m\u001b[1;33m+\u001b[0m\u001b[0mstr\u001b[0m\u001b[1;33m(\u001b[0m\u001b[0mN\u001b[0m\u001b[1;33m)\u001b[0m \u001b[1;33m)\u001b[0m\u001b[1;33m\u001b[0m\u001b[0m\n\u001b[0;32m      4\u001b[0m \u001b[0mxlabel\u001b[0m\u001b[1;33m(\u001b[0m\u001b[1;34m't'\u001b[0m\u001b[1;33m)\u001b[0m\u001b[1;33m\u001b[0m\u001b[0m\n\u001b[0;32m      5\u001b[0m \u001b[0mylabel\u001b[0m\u001b[1;33m(\u001b[0m\u001b[1;34m'y(t)'\u001b[0m\u001b[1;33m)\u001b[0m\u001b[1;33m\u001b[0m\u001b[0m\n",
      "\u001b[1;31mNameError\u001b[0m: name 'plot' is not defined"
     ]
    }
   ],
   "source": [
    "plot( t, w, label='approximation' )\n",
    "plot( t, y(t), label='exact' )\n",
    "title( \"Euler's Method Example, N=\"+str(N) )\n",
    "xlabel('t') \n",
    "ylabel('y(t)')\n",
    "legend(loc=4)\n",
    "grid()\n",
    "savefig( 'euler_example.png', fmt='PNG', dpi=100 )\n"
   ]
  }
 ],
 "metadata": {
  "kernelspec": {
   "display_name": "Python 3",
   "language": "python",
   "name": "python3"
  },
  "language_info": {
   "codemirror_mode": {
    "name": "ipython",
    "version": 3
   },
   "file_extension": ".py",
   "mimetype": "text/x-python",
   "name": "python",
   "nbconvert_exporter": "python",
   "pygments_lexer": "ipython3",
   "version": "3.6.3"
  }
 },
 "nbformat": 4,
 "nbformat_minor": 2
}
