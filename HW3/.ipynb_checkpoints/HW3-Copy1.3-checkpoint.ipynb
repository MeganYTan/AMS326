{
 "cells": [
  {
   "cell_type": "code",
   "execution_count": 3,
   "metadata": {},
   "outputs": [
    {
     "name": "stdout",
     "output_type": "stream",
     "text": [
      "199.04354356269172\n",
      "20.999796672786104\n"
     ]
    }
   ],
   "source": [
    "import numpy as np\n",
    "import scipy as sp\n",
    "import matplotlib.pyplot as plt\n",
    "def xprime(x,y):\n",
    "    return (a*x) + (b*x*y)\n",
    "def yprime(x,y):\n",
    "    return (c*y) + (e*x*y)\n",
    "x0 = 199\n",
    "y0 = 21\n",
    "a = 0.222\n",
    "b = -0.0011\n",
    "c = -1.999\n",
    "e = 0.010\n",
    "h = 0.0001\n",
    "\n",
    "####\n",
    "def findNext(x,y,h):\n",
    "    xnew = x +h * xprime(x,y)\n",
    "    ynew = y + h * yprime(x,y)\n",
    "    return xnew,ynew\n",
    "#q 1\n",
    "def findstep(x0,y0,h,t):\n",
    "    x=x0\n",
    "    y=y0\n",
    "    xvals = list()\n",
    "    yvals = list()\n",
    "    xvals.append(x)\n",
    "    yvals.append(y)\n",
    "    for i in range(t):\n",
    "        x,y = findNext(x,y,h)\n",
    "        xvals.append(x)\n",
    "        yvals.append(y)\n",
    "    return xvals,yvals\n",
    "\n",
    "#####\n",
    "\n",
    "xvals = findstep(x0,y0,h,11)[0]\n",
    "yvals = findstep(x0,y0,h,11)[1]\n",
    "print(xvals[-1])\n",
    "print(yvals[-1])"
   ]
  },
  {
   "cell_type": "code",
   "execution_count": 4,
   "metadata": {},
   "outputs": [
    {
     "data": {
      "image/png": "[encoded data removed]",
      "text/plain": [
       "<matplotlib.figure.Figure at 0x83b1dd8>"
      ]
     },
     "metadata": {},
     "output_type": "display_data"
    }
   ],
   "source": [
    "#q2 graphing\n",
    "xvals = findstep(x0,y0,h,1000)[0]\n",
    "yvals = findstep(x0,y0,h,1000)[1]\n",
    "time = np.arange(0,1001)\n",
    "plt.plot(time,xvals)\n",
    "plt.plot(time,yvals)\n",
    "plt.show()"
   ]
  },
  {
   "cell_type": "code",
   "execution_count": 5,
   "metadata": {},
   "outputs": [
    {
     "name": "stdout",
     "output_type": "stream",
     "text": [
      "323.6619631469954\n",
      "323.6730068327508\n",
      "35696\n"
     ]
    }
   ],
   "source": [
    "x = x0\n",
    "y = y0\n",
    "counter = 0\n",
    "while(y<x):\n",
    "    x,y = findNext(x,y,h)\n",
    "    counter +=1\n",
    "print(x)\n",
    "print(y)\n",
    "print(counter)"
   ]
  }
 ],
 "metadata": {
  "kernelspec": {
   "display_name": "Python 3",
   "language": "python",
   "name": "python3"
  },
  "language_info": {
   "codemirror_mode": {
    "name": "ipython",
    "version": 3
   },
   "file_extension": ".py",
   "mimetype": "text/x-python",
   "name": "python",
   "nbconvert_exporter": "python",
   "pygments_lexer": "ipython3",
   "version": "3.6.4"
  }
 },
 "nbformat": 4,
 "nbformat_minor": 2
}
