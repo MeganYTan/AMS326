{
 "cells": [
  {
   "cell_type": "code",
   "execution_count": 1,
   "metadata": {},
   "outputs": [
    {
     "name": "stdout",
     "output_type": "stream",
     "text": [
      "Time taken to reach top is 14.622 seconds.\n",
      "Total distance to top is 1720.16 meters.\n",
      "Time taken to reach bottom is 25.934 seconds.\n",
      "Total distance to bottom is 1720.16 meters.\n",
      "\n",
      "Total time traveled is 40.555 seconds.\n",
      "Total distance is 3440.32 meters.\n"
     ]
    }
   ],
   "source": [
    "import math\n",
    "import matplotlib.pyplot as plt\n",
    "import numpy as np\n",
    "#defining constants\n",
    "m = 0.1\n",
    "v0 = 300#m/s #v(0) = 300\n",
    "k = 9.11 * 10**-3\n",
    "g = 9.8#m/s^2\n",
    "\n",
    "#this is calculating going up\n",
    "vf = 0\n",
    "h = 0.0001\n",
    "def vprime(v):\n",
    "    return  -g  - k/m * v\n",
    "velocities = list()\n",
    "velocities.append(v0)\n",
    "v=v0\n",
    "while(v>=vf):\n",
    "    v = v + h*vprime(v)\n",
    "    velocities.append(v)\n",
    "#actual solution\n",
    "def f(t):\n",
    "    return -107.574 + 407.574* math.e**(-0.0911*t)\n",
    "\n",
    "#this is calculating distance of going up\n",
    "updistance1 = 0\n",
    "updistance2 =0\n",
    "for i in range(len(velocities)):\n",
    "    updistance1 +=(velocities[i] * h)\n",
    "for i in range(len(velocities)-1):\n",
    "    updistance2 +=((velocities[i+1]+velocities[i])/2 * h)\n",
    "updistance =(updistance1+updistance2)/2\n",
    "\n",
    "#this is calculating going down\n",
    "v02 = 0 #initial velocity. We don't know final velocity\n",
    "def vprime2(v):\n",
    "    return  g  - k/m * v\n",
    "area = 0\n",
    "velocities2 = list()\n",
    "velocities2.append(v02)\n",
    "v = v02\n",
    "area += v*h\n",
    "while (area<updistance):\n",
    "    v1 = v + h*vprime2(v)\n",
    "    vmid = (v+v1)/2\n",
    "    velocities2.append(vmid)\n",
    "    area += vmid*h\n",
    "    v = v1\n",
    "#find how to change distance\n",
    "#find actual solution\n",
    "\n",
    "#this is getting time\n",
    "tvals1 = np.arange(0,len(velocities)*h,h)\n",
    "tvals2 = np.arange(tvals1[-1],(len(velocities2)*h+tvals1[-1]),h)\n",
    "#this is printing results\n",
    "uptime = tvals1[-1]\n",
    "downtime = tvals2[-1]-tvals2[0]\n",
    "print(\"Time taken to reach top is %.3f\" %uptime, \"seconds.\")#t is 14.6218\n",
    "print(\"Total distance to top is %.2f meters.\" %updistance) #answer is 1720.16\n",
    "print(\"Time taken to reach bottom is %.3f\" %downtime, \"seconds.\")\n",
    "print(\"Total distance to bottom is %.2f meters.\" %area)\n",
    "print()\n",
    "print(\"Total time traveled is %.3f\" %(uptime+downtime), \"seconds.\")\n",
    "print(\"Total distance is %.2f\" %(updistance+area), \"meters.\")"
   ]
  },
  {
   "cell_type": "code",
   "execution_count": 2,
   "metadata": {},
   "outputs": [
    {
     "data": {
      "image/png": "[encoded data removed]",
      "text/plain": [
       "<matplotlib.figure.Figure at 0x90bc978>"
      ]
     },
     "metadata": {},
     "output_type": "display_data"
    }
   ],
   "source": [
    "#this is graph\n",
    "up,= plt.plot(tvals1,velocities,'g', label = 'Velocity of bullet traveling up')\n",
    "#travelup, = plt.plot(tvals1,f(tvals1),'g')\n",
    "down, = plt.plot(tvals2[:-1],velocities2,'b', label = 'Velocity of bullet traveling down')\n",
    "plt.legend(handles = [up,down])\n",
    "plt.title(\"Velocity as a function of time\")\n",
    "plt.xlabel(\"Time\")\n",
    "plt.ylabel(\"Velocity\")\n",
    "#plt.plot(tvals1,f(tvals1),'g')\n",
    "plt.show()"
   ]
  }
 ],
 "metadata": {
  "kernelspec": {
   "display_name": "Python 3",
   "language": "python",
   "name": "python3"
  },
  "language_info": {
   "codemirror_mode": {
    "name": "ipython",
    "version": 3
   },
   "file_extension": ".py",
   "mimetype": "text/x-python",
   "name": "python",
   "nbconvert_exporter": "python",
   "pygments_lexer": "ipython3",
   "version": "3.6.3"
  }
 },
 "nbformat": 4,
 "nbformat_minor": 2
}
