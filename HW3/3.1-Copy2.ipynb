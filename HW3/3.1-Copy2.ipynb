{
 "cells": [
  {
   "cell_type": "code",
   "execution_count": 18,
   "metadata": {},
   "outputs": [],
   "source": [
    "import math\n",
    "import matplotlib.pyplot as plt\n",
    "import numpy as np\n",
    "#defining constants\n",
    "m = 0.1\n",
    "v0 = 300#m/s #v(0) = 300\n",
    "k = 9.11 * 10**-3\n",
    "g = 9.8#m/s^2\n",
    "#this is h\n",
    "h = 0.0001"
   ]
  },
  {
   "cell_type": "code",
   "execution_count": 19,
   "metadata": {},
   "outputs": [],
   "source": [
    "#this is calculating going up\n",
    "vf = 0\n",
    "def vprime(v):\n",
    "    return  -g  - k/m * v\n",
    "velocities = list()\n",
    "velocities.append(v0)\n",
    "v=v0\n",
    "while(v>=vf):\n",
    "    v = v + h*vprime(v)\n",
    "    velocities.append(v)\n",
    "#actual solution\n",
    "def f(t):\n",
    "    return -107.574 + 407.574* math.e**(-0.0911*t)"
   ]
  },
  {
   "cell_type": "code",
   "execution_count": 20,
   "metadata": {},
   "outputs": [
    {
     "data": {
      "text/plain": [
       "1720.1609512777914"
      ]
     },
     "execution_count": 20,
     "metadata": {},
     "output_type": "execute_result"
    }
   ],
   "source": [
    "#this is calculating distance of going up\n",
    "updistance1 = 0\n",
    "updistance2 =0\n",
    "updistance = 0\n",
    "for i in range(len(velocities)):\n",
    "    updistance1 +=(velocities[i] * h)\n",
    "for i in range(len(velocities)-1):\n",
    "    updistance2 +=((velocities[i+1]+velocities[i])/2 * h)\n",
    "updistance =(updistance1+updistance2)/2\n",
    "updistance"
   ]
  },
  {
   "cell_type": "code",
   "execution_count": 22,
   "metadata": {},
   "outputs": [
    {
     "data": {
      "text/plain": [
       "1720.162600581605"
      ]
     },
     "execution_count": 22,
     "metadata": {},
     "output_type": "execute_result"
    }
   ],
   "source": [
    "#this is calculating going down\n",
    "v02 = 0 #initial velocity. We don't know final velocity\n",
    "def vprime2(v):\n",
    "    return  g  - k/m * v\n",
    "area = 0\n",
    "velocities2 = list()\n",
    "velocities2.append(v02)\n",
    "v = v02\n",
    "area += v*h\n",
    "while (area<updistance):\n",
    "    v1 = v + h*vprime2(v)\n",
    "    vmid = (v+v1)/2\n",
    "    velocities2.append(vmid)\n",
    "    area += vmid*h\n",
    "    v = v1\n",
    "#velocities2 = velocities2[:-1]\n",
    "#area -= v*h\n",
    "area\n",
    "#find how to change distance\n",
    "#find actual solution"
   ]
  },
  {
   "cell_type": "code",
   "execution_count": 16,
   "metadata": {},
   "outputs": [
    {
     "name": "stdout",
     "output_type": "stream",
     "text": [
      "Time taken to reach top is 14.622 seconds.\n",
      "Total distance to top is 1720.16 meters.\n",
      "Time taken to reach bottom is 25.933 seconds.\n",
      "Total distance to bottom is 1720.16 meters.\n",
      "\n",
      "Total time traveled is 40.5551999999 seconds.\n",
      "Total distance is 3440.32 meters.\n"
     ]
    }
   ],
   "source": [
    "#this is getting time\n",
    "tvals1 = np.arange(0,len(velocities)*h,h)\n",
    "tvals2 = np.arange(tvals1[-1],(len(velocities2)*h+tvals1[-1]),h)\n",
    "#this is printing results\n",
    "uptime = tvals1[-1]\n",
    "downtime = tvals2[-1]-tvals2[0]\n",
    "print(\"Time taken to reach top is %.3f\" %uptime, \"seconds.\")#t is 14.6218\n",
    "print(\"Total distance to top is %.2f meters.\" %updistance) #answer is 1720.16\n",
    "print(\"Time taken to reach bottom is %.3f\" %downtime, \"seconds.\")\n",
    "print(\"Total distance to bottom is %.2f meters.\" %area)\n",
    "print()\n",
    "print(\"Total time traveled is\", uptime+downtime, \"seconds.\")\n",
    "print(\"Total distance is %.2f\" %(updistance+area), \"meters.\")"
   ]
  },
  {
   "cell_type": "code",
   "execution_count": 23,
   "metadata": {},
   "outputs": [
    {
     "ename": "ValueError",
     "evalue": "x and y must have same first dimension, but have shapes (259336,) and (259337,)",
     "output_type": "error",
     "traceback": [
      "\u001b[1;31m---------------------------------------------------------------------------\u001b[0m",
      "\u001b[1;31mValueError\u001b[0m                                Traceback (most recent call last)",
      "\u001b[1;32m<ipython-input-23-e82eb54460b2>\u001b[0m in \u001b[0;36m<module>\u001b[1;34m()\u001b[0m\n\u001b[0;32m      2\u001b[0m \u001b[0mplt\u001b[0m\u001b[1;33m.\u001b[0m\u001b[0mplot\u001b[0m\u001b[1;33m(\u001b[0m\u001b[0mtvals1\u001b[0m\u001b[1;33m,\u001b[0m\u001b[0mvelocities\u001b[0m\u001b[1;33m,\u001b[0m\u001b[1;34m'b'\u001b[0m\u001b[1;33m)\u001b[0m\u001b[1;33m\u001b[0m\u001b[0m\n\u001b[0;32m      3\u001b[0m \u001b[0mplt\u001b[0m\u001b[1;33m.\u001b[0m\u001b[0mplot\u001b[0m\u001b[1;33m(\u001b[0m\u001b[0mtvals1\u001b[0m\u001b[1;33m,\u001b[0m\u001b[0mf\u001b[0m\u001b[1;33m(\u001b[0m\u001b[0mtvals1\u001b[0m\u001b[1;33m)\u001b[0m\u001b[1;33m,\u001b[0m\u001b[1;34m'g'\u001b[0m\u001b[1;33m)\u001b[0m\u001b[1;33m\u001b[0m\u001b[0m\n\u001b[1;32m----> 4\u001b[1;33m \u001b[0mplt\u001b[0m\u001b[1;33m.\u001b[0m\u001b[0mplot\u001b[0m\u001b[1;33m(\u001b[0m\u001b[0mtvals2\u001b[0m\u001b[1;33m,\u001b[0m\u001b[0mvelocities2\u001b[0m\u001b[1;33m,\u001b[0m\u001b[1;34m'b'\u001b[0m\u001b[1;33m)\u001b[0m\u001b[1;33m\u001b[0m\u001b[0m\n\u001b[0m\u001b[0;32m      5\u001b[0m \u001b[0mplt\u001b[0m\u001b[1;33m.\u001b[0m\u001b[0mtitle\u001b[0m\u001b[1;33m(\u001b[0m\u001b[1;34m\"Velocity as a function of time\"\u001b[0m\u001b[1;33m)\u001b[0m\u001b[1;33m\u001b[0m\u001b[0m\n\u001b[0;32m      6\u001b[0m \u001b[0mplt\u001b[0m\u001b[1;33m.\u001b[0m\u001b[0mxlabel\u001b[0m\u001b[1;33m(\u001b[0m\u001b[1;34m\"Time\"\u001b[0m\u001b[1;33m)\u001b[0m\u001b[1;33m\u001b[0m\u001b[0m\n",
      "\u001b[1;32m~\\Anaconda3\\lib\\site-packages\\matplotlib\\pyplot.py\u001b[0m in \u001b[0;36mplot\u001b[1;34m(*args, **kwargs)\u001b[0m\n\u001b[0;32m   3238\u001b[0m                       mplDeprecation)\n\u001b[0;32m   3239\u001b[0m     \u001b[1;32mtry\u001b[0m\u001b[1;33m:\u001b[0m\u001b[1;33m\u001b[0m\u001b[0m\n\u001b[1;32m-> 3240\u001b[1;33m         \u001b[0mret\u001b[0m \u001b[1;33m=\u001b[0m \u001b[0max\u001b[0m\u001b[1;33m.\u001b[0m\u001b[0mplot\u001b[0m\u001b[1;33m(\u001b[0m\u001b[1;33m*\u001b[0m\u001b[0margs\u001b[0m\u001b[1;33m,\u001b[0m \u001b[1;33m**\u001b[0m\u001b[0mkwargs\u001b[0m\u001b[1;33m)\u001b[0m\u001b[1;33m\u001b[0m\u001b[0m\n\u001b[0m\u001b[0;32m   3241\u001b[0m     \u001b[1;32mfinally\u001b[0m\u001b[1;33m:\u001b[0m\u001b[1;33m\u001b[0m\u001b[0m\n\u001b[0;32m   3242\u001b[0m         \u001b[0max\u001b[0m\u001b[1;33m.\u001b[0m\u001b[0m_hold\u001b[0m \u001b[1;33m=\u001b[0m \u001b[0mwashold\u001b[0m\u001b[1;33m\u001b[0m\u001b[0m\n",
      "\u001b[1;32m~\\Anaconda3\\lib\\site-packages\\matplotlib\\__init__.py\u001b[0m in \u001b[0;36minner\u001b[1;34m(ax, *args, **kwargs)\u001b[0m\n\u001b[0;32m   1708\u001b[0m                     warnings.warn(msg % (label_namer, func.__name__),\n\u001b[0;32m   1709\u001b[0m                                   RuntimeWarning, stacklevel=2)\n\u001b[1;32m-> 1710\u001b[1;33m             \u001b[1;32mreturn\u001b[0m \u001b[0mfunc\u001b[0m\u001b[1;33m(\u001b[0m\u001b[0max\u001b[0m\u001b[1;33m,\u001b[0m \u001b[1;33m*\u001b[0m\u001b[0margs\u001b[0m\u001b[1;33m,\u001b[0m \u001b[1;33m**\u001b[0m\u001b[0mkwargs\u001b[0m\u001b[1;33m)\u001b[0m\u001b[1;33m\u001b[0m\u001b[0m\n\u001b[0m\u001b[0;32m   1711\u001b[0m         \u001b[0mpre_doc\u001b[0m \u001b[1;33m=\u001b[0m \u001b[0minner\u001b[0m\u001b[1;33m.\u001b[0m\u001b[0m__doc__\u001b[0m\u001b[1;33m\u001b[0m\u001b[0m\n\u001b[0;32m   1712\u001b[0m         \u001b[1;32mif\u001b[0m \u001b[0mpre_doc\u001b[0m \u001b[1;32mis\u001b[0m \u001b[1;32mNone\u001b[0m\u001b[1;33m:\u001b[0m\u001b[1;33m\u001b[0m\u001b[0m\n",
      "\u001b[1;32m~\\Anaconda3\\lib\\site-packages\\matplotlib\\axes\\_axes.py\u001b[0m in \u001b[0;36mplot\u001b[1;34m(self, *args, **kwargs)\u001b[0m\n\u001b[0;32m   1435\u001b[0m         \u001b[0mkwargs\u001b[0m \u001b[1;33m=\u001b[0m \u001b[0mcbook\u001b[0m\u001b[1;33m.\u001b[0m\u001b[0mnormalize_kwargs\u001b[0m\u001b[1;33m(\u001b[0m\u001b[0mkwargs\u001b[0m\u001b[1;33m,\u001b[0m \u001b[0m_alias_map\u001b[0m\u001b[1;33m)\u001b[0m\u001b[1;33m\u001b[0m\u001b[0m\n\u001b[0;32m   1436\u001b[0m \u001b[1;33m\u001b[0m\u001b[0m\n\u001b[1;32m-> 1437\u001b[1;33m         \u001b[1;32mfor\u001b[0m \u001b[0mline\u001b[0m \u001b[1;32min\u001b[0m \u001b[0mself\u001b[0m\u001b[1;33m.\u001b[0m\u001b[0m_get_lines\u001b[0m\u001b[1;33m(\u001b[0m\u001b[1;33m*\u001b[0m\u001b[0margs\u001b[0m\u001b[1;33m,\u001b[0m \u001b[1;33m**\u001b[0m\u001b[0mkwargs\u001b[0m\u001b[1;33m)\u001b[0m\u001b[1;33m:\u001b[0m\u001b[1;33m\u001b[0m\u001b[0m\n\u001b[0m\u001b[0;32m   1438\u001b[0m             \u001b[0mself\u001b[0m\u001b[1;33m.\u001b[0m\u001b[0madd_line\u001b[0m\u001b[1;33m(\u001b[0m\u001b[0mline\u001b[0m\u001b[1;33m)\u001b[0m\u001b[1;33m\u001b[0m\u001b[0m\n\u001b[0;32m   1439\u001b[0m             \u001b[0mlines\u001b[0m\u001b[1;33m.\u001b[0m\u001b[0mappend\u001b[0m\u001b[1;33m(\u001b[0m\u001b[0mline\u001b[0m\u001b[1;33m)\u001b[0m\u001b[1;33m\u001b[0m\u001b[0m\n",
      "\u001b[1;32m~\\Anaconda3\\lib\\site-packages\\matplotlib\\axes\\_base.py\u001b[0m in \u001b[0;36m_grab_next_args\u001b[1;34m(self, *args, **kwargs)\u001b[0m\n\u001b[0;32m    402\u001b[0m                 \u001b[0mthis\u001b[0m \u001b[1;33m+=\u001b[0m \u001b[0margs\u001b[0m\u001b[1;33m[\u001b[0m\u001b[1;36m0\u001b[0m\u001b[1;33m]\u001b[0m\u001b[1;33m,\u001b[0m\u001b[1;33m\u001b[0m\u001b[0m\n\u001b[0;32m    403\u001b[0m                 \u001b[0margs\u001b[0m \u001b[1;33m=\u001b[0m \u001b[0margs\u001b[0m\u001b[1;33m[\u001b[0m\u001b[1;36m1\u001b[0m\u001b[1;33m:\u001b[0m\u001b[1;33m]\u001b[0m\u001b[1;33m\u001b[0m\u001b[0m\n\u001b[1;32m--> 404\u001b[1;33m             \u001b[1;32mfor\u001b[0m \u001b[0mseg\u001b[0m \u001b[1;32min\u001b[0m \u001b[0mself\u001b[0m\u001b[1;33m.\u001b[0m\u001b[0m_plot_args\u001b[0m\u001b[1;33m(\u001b[0m\u001b[0mthis\u001b[0m\u001b[1;33m,\u001b[0m \u001b[0mkwargs\u001b[0m\u001b[1;33m)\u001b[0m\u001b[1;33m:\u001b[0m\u001b[1;33m\u001b[0m\u001b[0m\n\u001b[0m\u001b[0;32m    405\u001b[0m                 \u001b[1;32myield\u001b[0m \u001b[0mseg\u001b[0m\u001b[1;33m\u001b[0m\u001b[0m\n\u001b[0;32m    406\u001b[0m \u001b[1;33m\u001b[0m\u001b[0m\n",
      "\u001b[1;32m~\\Anaconda3\\lib\\site-packages\\matplotlib\\axes\\_base.py\u001b[0m in \u001b[0;36m_plot_args\u001b[1;34m(self, tup, kwargs)\u001b[0m\n\u001b[0;32m    382\u001b[0m             \u001b[0mx\u001b[0m\u001b[1;33m,\u001b[0m \u001b[0my\u001b[0m \u001b[1;33m=\u001b[0m \u001b[0mindex_of\u001b[0m\u001b[1;33m(\u001b[0m\u001b[0mtup\u001b[0m\u001b[1;33m[\u001b[0m\u001b[1;33m-\u001b[0m\u001b[1;36m1\u001b[0m\u001b[1;33m]\u001b[0m\u001b[1;33m)\u001b[0m\u001b[1;33m\u001b[0m\u001b[0m\n\u001b[0;32m    383\u001b[0m \u001b[1;33m\u001b[0m\u001b[0m\n\u001b[1;32m--> 384\u001b[1;33m         \u001b[0mx\u001b[0m\u001b[1;33m,\u001b[0m \u001b[0my\u001b[0m \u001b[1;33m=\u001b[0m \u001b[0mself\u001b[0m\u001b[1;33m.\u001b[0m\u001b[0m_xy_from_xy\u001b[0m\u001b[1;33m(\u001b[0m\u001b[0mx\u001b[0m\u001b[1;33m,\u001b[0m \u001b[0my\u001b[0m\u001b[1;33m)\u001b[0m\u001b[1;33m\u001b[0m\u001b[0m\n\u001b[0m\u001b[0;32m    385\u001b[0m \u001b[1;33m\u001b[0m\u001b[0m\n\u001b[0;32m    386\u001b[0m         \u001b[1;32mif\u001b[0m \u001b[0mself\u001b[0m\u001b[1;33m.\u001b[0m\u001b[0mcommand\u001b[0m \u001b[1;33m==\u001b[0m \u001b[1;34m'plot'\u001b[0m\u001b[1;33m:\u001b[0m\u001b[1;33m\u001b[0m\u001b[0m\n",
      "\u001b[1;32m~\\Anaconda3\\lib\\site-packages\\matplotlib\\axes\\_base.py\u001b[0m in \u001b[0;36m_xy_from_xy\u001b[1;34m(self, x, y)\u001b[0m\n\u001b[0;32m    241\u001b[0m         \u001b[1;32mif\u001b[0m \u001b[0mx\u001b[0m\u001b[1;33m.\u001b[0m\u001b[0mshape\u001b[0m\u001b[1;33m[\u001b[0m\u001b[1;36m0\u001b[0m\u001b[1;33m]\u001b[0m \u001b[1;33m!=\u001b[0m \u001b[0my\u001b[0m\u001b[1;33m.\u001b[0m\u001b[0mshape\u001b[0m\u001b[1;33m[\u001b[0m\u001b[1;36m0\u001b[0m\u001b[1;33m]\u001b[0m\u001b[1;33m:\u001b[0m\u001b[1;33m\u001b[0m\u001b[0m\n\u001b[0;32m    242\u001b[0m             raise ValueError(\"x and y must have same first dimension, but \"\n\u001b[1;32m--> 243\u001b[1;33m                              \"have shapes {} and {}\".format(x.shape, y.shape))\n\u001b[0m\u001b[0;32m    244\u001b[0m         \u001b[1;32mif\u001b[0m \u001b[0mx\u001b[0m\u001b[1;33m.\u001b[0m\u001b[0mndim\u001b[0m \u001b[1;33m>\u001b[0m \u001b[1;36m2\u001b[0m \u001b[1;32mor\u001b[0m \u001b[0my\u001b[0m\u001b[1;33m.\u001b[0m\u001b[0mndim\u001b[0m \u001b[1;33m>\u001b[0m \u001b[1;36m2\u001b[0m\u001b[1;33m:\u001b[0m\u001b[1;33m\u001b[0m\u001b[0m\n\u001b[0;32m    245\u001b[0m             raise ValueError(\"x and y can be no greater than 2-D, but have \"\n",
      "\u001b[1;31mValueError\u001b[0m: x and y must have same first dimension, but have shapes (259336,) and (259337,)"
     ]
    }
   ],
   "source": [
    "#this is graph\n",
    "plt.plot(tvals1,velocities,'b')\n",
    "plt.plot(tvals1,f(tvals1),'g')\n",
    "plt.plot(tvals2,velocities2,'b')\n",
    "plt.title(\"Velocity as a function of time\")\n",
    "plt.xlabel(\"Time\")\n",
    "plt.ylabel(\"Velocity\")\n",
    "#plt.plot(tvals1,f(tvals1),'g')\n",
    "plt.show()"
   ]
  },
  {
   "cell_type": "code",
   "execution_count": 18,
   "metadata": {},
   "outputs": [
    {
     "name": "stdout",
     "output_type": "stream",
     "text": [
      "Time taken to reach top is 14.622 seconds.\n",
      "Total distance to top is 1720.16 meters.\n",
      "Time taken to reach bottom is 25.933 seconds.\n",
      "Total distance to bottom is 1720.18593 meters.\n",
      "\n",
      "Total time traveled is 40.555 seconds.\n",
      "Total distance is 3440.34 meters.\n"
     ]
    }
   ],
   "source": [
    "import math\n",
    "import matplotlib.pyplot as plt\n",
    "import numpy as np\n",
    "#defining constants\n",
    "m = 0.1\n",
    "v0 = 300#m/s #v(0) = 300\n",
    "k = 9.11 * 10**-3\n",
    "g = 9.8#m/s^2\n",
    "\n",
    "#this is calculating going up\n",
    "vf = 0\n",
    "h = 0.001\n",
    "def vprime(v):\n",
    "    return  -g  - k/m * v\n",
    "velocities = list()\n",
    "velocities.append(v0)\n",
    "v=v0\n",
    "while(v>=vf):\n",
    "    v = v + h*vprime(v)\n",
    "    velocities.append(v)\n",
    "#actual solution\n",
    "def f(t):\n",
    "    return -107.574 + 407.574* math.e**(-0.0911*t)\n",
    "\n",
    "#this is calculating distance of going up\n",
    "updistance1 = 0\n",
    "updistance2 =0\n",
    "for i in range(len(velocities)):\n",
    "    updistance1 +=(velocities[i] * h)\n",
    "for i in range(len(velocities)-1):\n",
    "    updistance2 +=((velocities[i+1]+velocities[i])/2 * h)\n",
    "updistance =(updistance1+updistance2)/2\n",
    "\n",
    "#this is calculating going down\n",
    "v02 = 0 #initial velocity. We don't know final velocity\n",
    "def vprime2(v):\n",
    "    return  g  - k/m * v\n",
    "area = 0\n",
    "velocities2 = list()\n",
    "velocities2.append(v02)\n",
    "v = v02\n",
    "area += v*h\n",
    "while (area<updistance):\n",
    "    v = v + h*vprime2(v)\n",
    "    velocities2.append(v)\n",
    "    area += v*h\n",
    "#velocities2 = velocities2[:-1]\n",
    "#area -= v*h\n",
    "#find how to change distance\n",
    "#find actual solution\n",
    "\n",
    "#this is getting time\n",
    "tvals1 = np.arange(0,len(velocities)*h,h)\n",
    "tvals2 = np.arange(tvals1[-1],(len(velocities2)*h+tvals1[-1]),h)\n",
    "#this is printing results\n",
    "uptime = tvals1[-1]\n",
    "downtime = tvals2[-1]-tvals2[0]\n",
    "print(\"Time taken to reach top is %.3f\" %uptime, \"seconds.\")#t is 14.6218\n",
    "print(\"Total distance to top is %.2f meters.\" %updistance) #answer is 1720.16\n",
    "print(\"Time taken to reach bottom is %.3f\" %downtime, \"seconds.\")\n",
    "print(\"Total distance to bottom is %.5f meters.\" %area)\n",
    "print()\n",
    "print(\"Total time traveled is\", uptime+downtime, \"seconds.\")\n",
    "print(\"Total distance is %.2f\" %(updistance+area), \"meters.\")"
   ]
  },
  {
   "cell_type": "code",
   "execution_count": null,
   "metadata": {},
   "outputs": [],
   "source": []
  },
  {
   "cell_type": "code",
   "execution_count": null,
   "metadata": {},
   "outputs": [],
   "source": [
    "import math\n",
    "import matplotlib.pyplot as plt\n",
    "import numpy as np\n",
    "#defining constants\n",
    "m = 0.1\n",
    "v0 = 300#m/s #v(0) = 300\n",
    "k = 9.11 * 10**-3\n",
    "g = 9.8#m/s^2\n",
    "\n",
    "#this is calculating going up\n",
    "vf = 0\n",
    "h = 0.001\n",
    "def vprime(v):\n",
    "    return  -g  - k/m * v\n",
    "velocities = list()\n",
    "velocities.append(v0)\n",
    "v=v0\n",
    "while(v>=vf):\n",
    "    v = v + h*vprime(v)\n",
    "    velocities.append(v)\n",
    "#actual solution\n",
    "def f(t):\n",
    "    return -107.574 + 407.574* math.e**(-0.0911*t)\n",
    "\n",
    "#this is calculating distance of going up\n",
    "updistance1 = 0\n",
    "updistance2 =0\n",
    "for i in range(len(velocities)):\n",
    "    updistance1 +=(velocities[i] * h)\n",
    "for i in range(len(velocities)-1):\n",
    "    updistance2 +=((velocities[i+1]+velocities[i])/2 * h)\n",
    "#updistance =(updistance1+updistance2)/2\n",
    "for i in range(len(velocities)-1):\n",
    "    updistance += (velocities[i] + velocities[i+1])/2\n",
    "\n",
    "#this is calculating going down\n",
    "v02 = 0 #initial velocity. We don't know final velocity\n",
    "def vprime2(v):\n",
    "    return  g  - k/m * v\n",
    "area = 0\n",
    "velocities2 = list()\n",
    "velocities2.append(v02)\n",
    "v = v02\n",
    "area += v*h\n",
    "while (area<updistance):\n",
    "    v1 = v + h*vprime2(v)\n",
    "    vmid = (v + v1)/2\n",
    "    velocities2.append(vmid)\n",
    "    area += vmid*h\n",
    "    v = v1\n",
    "#velocities2 = velocities2[:-1]\n",
    "#area -= v*h\n",
    "#find how to change distance\n",
    "#find actual solution\n",
    "\n",
    "#this is getting time\n",
    "tvals1 = np.arange(0,len(velocities)*h,h)\n",
    "tvals2 = np.arange(tvals1[-1],(len(velocities2)*h+tvals1[-1]),h)\n",
    "#this is printing results\n",
    "uptime = tvals1[-1]\n",
    "downtime = tvals2[-1]-tvals2[0]\n",
    "print(\"Time taken to reach top is %.3f\" %uptime, \"seconds.\")#t is 14.6218\n",
    "print(\"Total distance to top is %.2f meters.\" %updistance) #answer is 1720.16\n",
    "print(\"Time taken to reach bottom is %.3f\" %downtime, \"seconds.\")\n",
    "print(\"Total distance to bottom is %.5f meters.\" %area)\n",
    "print()\n",
    "print(\"Total time traveled is\", uptime+downtime, \"seconds.\")\n",
    "print(\"Total distance is %.2f\" %(updistance+area), \"meters.\")"
   ]
  },
  {
   "cell_type": "code",
   "execution_count": 10,
   "metadata": {},
   "outputs": [
    {
     "name": "stdout",
     "output_type": "stream",
     "text": [
      "97.44702957658973\n",
      "97.4479521521953\n",
      "97.4474908643925\n",
      "1720.5757173194847\n",
      "97.4479521521953\n"
     ]
    }
   ],
   "source": [
    "v1 = v + h*vprime2(v)\n",
    "print(v)\n",
    "print(v1)\n",
    "velocities2.append((v+v1)/2)\n",
    "print((v +v1)/2)\n",
    "area += v*h\n",
    "print(area)\n",
    "v = v1\n",
    "print(v)"
   ]
  }
 ],
 "metadata": {
  "kernelspec": {
   "display_name": "Python 3",
   "language": "python",
   "name": "python3"
  },
  "language_info": {
   "codemirror_mode": {
    "name": "ipython",
    "version": 3
   },
   "file_extension": ".py",
   "mimetype": "text/x-python",
   "name": "python",
   "nbconvert_exporter": "python",
   "pygments_lexer": "ipython3",
   "version": "3.6.3"
  }
 },
 "nbformat": 4,
 "nbformat_minor": 2
}
