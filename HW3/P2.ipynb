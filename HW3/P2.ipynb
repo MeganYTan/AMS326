{
 "cells": [
  {
   "cell_type": "code",
   "execution_count": 2,
   "metadata": {},
   "outputs": [
    {
     "name": "stdout",
     "output_type": "stream",
     "text": [
      "66.65991529096176\n",
      "2.0\n",
      "To find k\n",
      "\n",
      "33.32999973822197\n",
      "15.23506 is the total number of hours from T0 to A\n",
      "\n",
      "91.10992090603753\n",
      "0.46152000000000004 is the number of hours the person died before he was found\n",
      "66.65991529096176\n",
      "2.0 is time from 91.11 F to 66.66 F\n",
      "44.43997295898576\n",
      "3.8688000000000002 is time from 66.66 F to 44.44 F\n",
      "33.329997445804885\n",
      "8.904770000000001 is time from 44.44 F to 33.33 F\n"
     ]
    }
   ],
   "source": [
    "import numpy as np\n",
    "import matplotlib.pyplot as plt\n",
    "#define constants\n",
    "A = 33.33\n",
    "T0 = 98.88#died\n",
    "T1 = 91.11#found\n",
    "T2 = 66.66#2 hours after T1\n",
    "T3 = 44.44 #after t2 but dk how long\n",
    "k=.255065\n",
    "h = 0.00001\n",
    "#p1: when did person die -- shooting method\n",
    "#   t when T = 91.11\n",
    "#p2 t when T = 44.44\n",
    "#the derivative\n",
    "def TPrime(k,T):\n",
    "    return k * (A -T**1.01)\n",
    "def findNextStep(T,k, h):\n",
    "    #T = initial value\n",
    "    return T + h * TPrime(k,T)\n",
    "\n",
    "def shoot(k,T0, T1, h):\n",
    "    T = T0\n",
    "    counter = 0\n",
    "    Temperatures = list()\n",
    "    Temperatures.append(T)\n",
    "    while(T>T1):\n",
    "        T = findNextStep(T, k, h)\n",
    "        Temperatures.append(T)\n",
    "        counter+=1\n",
    "    return Temperatures,counter\n",
    "Temperatures, counter = shoot(k,T1,T2,h)\n",
    "print(Temperatures[-1])\n",
    "print(h * counter)\n",
    "print(\"To find k\")\n",
    "print()\n",
    "\n",
    "#this is to find k\n",
    "\n",
    "TempAll, counter = shoot(k,T0,A,h) #this is the whole thing\n",
    "print(TempAll[-1])\n",
    "Tall = h*counter\n",
    "print(Tall, \"is the total number of hours from T0 to A\")\n",
    "print()\n",
    "Temp0,counter = shoot(k,T0,T1,h)\n",
    "print(Temp0[-1])\n",
    "t1 = h*counter\n",
    "print(t1, \"is the number of hours the person died before he was found\")\n",
    "\n",
    "Temp1,counter = shoot(k,T1,T2,h)\n",
    "print(Temp1[-1])\n",
    "t2 = h*counter\n",
    "print(t2, \"is time from %.2f F to %.2f F\" %(T1,T2))\n",
    "\n",
    "Temp2, counter = shoot(k,T2,T3,h)\n",
    "print(Temp2[-1])\n",
    "t3 = h * counter\n",
    "print(t3, \"is time from %.2f F to %.2f F\" %(T2,T3))\n",
    "\n",
    "Temp3, counter = shoot(k,T3,A,h)\n",
    "print(Temp3[-1])\n",
    "t4 = h *counter\n",
    "print(t4, \"is time from %.2f F to %.2f F\" %(T3,A))"
   ]
  },
  {
   "cell_type": "code",
   "execution_count": 24,
   "metadata": {},
   "outputs": [
    {
     "data": {
      "image/png": "[encoded data removed]",
      "text/plain": [
       "<matplotlib.figure.Figure at 0xc915400>"
      ]
     },
     "metadata": {},
     "output_type": "display_data"
    }
   ],
   "source": [
    "import matplotlib.pyplot as plt\n",
    "\n",
    "time = np.arange(0,len(TempAll)*h,h)\n",
    "whole, = plt.plot(time,TempAll, label = 'Shoot from %.2f F to %.2f F' %(T0, A))\n",
    "i, = plt.plot(0,T0,'r^', label = \"%.2fF\" %T0)\n",
    "f, = plt.plot(t1,T1, 'g^', label = \"%.2fF\" %T1)\n",
    "s, = plt.plot(t1+t2,T2,'b^',label = \"%.2fF\" %T2)\n",
    "t, = plt.plot(t1+t2+t3,T3,'y^',label = \"%.2fF\" %T3)\n",
    "fr, = plt.plot(t1+t2+t3+t4,A,'^', color = \"black\",label = \"%.2fF\" %A)\n",
    "\n",
    "plt.legend(handles = [whole,i,f,s,t,fr])\n",
    "plt.xlabel('Time')\n",
    "plt.ylabel('Temperature')\n",
    "plt.plot()\n",
    "plt.show()"
   ]
  },
  {
   "cell_type": "code",
   "execution_count": 1,
   "metadata": {},
   "outputs": [
    {
     "name": "stdout",
     "output_type": "stream",
     "text": [
      "66.65223659747284\n",
      "2.032\n",
      "To find k\n",
      "\n",
      "44.43739956931139\n",
      "6.641 is the total number of hours from 98.88 to 44.44\n",
      "\n",
      "91.10425873709906\n",
      "0.464 is the number of hours the person died before he was found\n",
      "66.65223659747284\n",
      "2.032 is time from 91.11 F to 66.66 F\n",
      "44.43805856640277\n",
      "4.146 is time from 66.66 F to 44.44 F\n"
     ]
    }
   ],
   "source": [
    "import numpy as np\n",
    "import matplotlib.pyplot as plt\n",
    "#define constants\n",
    "A = 34\n",
    "T0 = 98.88#died\n",
    "T1 = 91.11#found\n",
    "T2 = 66.66#2 hours after T1\n",
    "T3 = 44.44 #after t2 but dk how long\n",
    "k=.275093\n",
    "h = 0.001\n",
    "#p1: when did person die -- shooting method\n",
    "#   t when T = 91.11\n",
    "#p2 t when T = 44.44\n",
    "#the derivative\n",
    "def TPrime(k,T):\n",
    "    return k * (A -T)\n",
    "def findNextStep(T,k, h):\n",
    "    #T = initial value\n",
    "    return T + h * TPrime(k,T)\n",
    "\n",
    "def shoot(k,T0, T1, h):\n",
    "    T = T0\n",
    "    counter = 0\n",
    "    Temperatures = list()\n",
    "    Temperatures.append(T)\n",
    "    while(T>T1):\n",
    "        T = findNextStep(T, k, h)\n",
    "        Temperatures.append(T)\n",
    "        counter+=1\n",
    "    return Temperatures,counter\n",
    "Temperatures, counter = shoot(k,T1,T2,h)\n",
    "print(Temperatures[-1])\n",
    "print(h * counter)\n",
    "print(\"To find k\")\n",
    "print()#this is to find k\n",
    "\n",
    "TempAll, counter = shoot(k,T0,T3,h) #this is the whole thing\n",
    "print(TempAll[-1])\n",
    "Tall = h*counter\n",
    "print(Tall, \"is the total number of hours from %.2f to %.2f\" %(T0,T3))\n",
    "print()\n",
    "\n",
    "Temp0,counter = shoot(k,T0,T1,h)\n",
    "print(Temp0[-1])\n",
    "t1 = h*counter\n",
    "print(t1, \"is the number of hours the person died before he was found\")\n",
    "\n",
    "Temp1,counter = shoot(k,T1,T2,h)\n",
    "print(Temp1[-1])\n",
    "t2 = h*counter\n",
    "print(t2, \"is time from %.2f F to %.2f F\" %(T1,T2))\n",
    "\n",
    "Temp2, counter = shoot(k,T2,T3,h)\n",
    "print(Temp2[-1])\n",
    "t3 = h * counter\n",
    "print(t3, \"is time from %.2f F to %.2f F\" %(T2,T3))\n",
    "\n",
    "#Temp3, counter = shoot(k,T3,A,0.1)\n",
    "#print(Temp3[-1])\n",
    "#t4 = h *counter\n",
    "#print(t4, \"is time from %.2f F to %.2f F\" %(T3,A))"
   ]
  },
  {
   "cell_type": "code",
   "execution_count": 18,
   "metadata": {},
   "outputs": [
    {
     "data": {
      "text/plain": [
       "[<matplotlib.lines.Line2D at 0x88ebc50>]"
      ]
     },
     "execution_count": 18,
     "metadata": {},
     "output_type": "execute_result"
    },
    {
     "data": {
      "image/png": "[encoded data removed]",
      "text/plain": [
       "<matplotlib.figure.Figure at 0x56a5d30>"
      ]
     },
     "metadata": {},
     "output_type": "display_data"
    }
   ],
   "source": [
    "x = np.arange(0,10,0.1)\n",
    "plt.plot(x,math.e**(-0.275093*x))\n",
    "#plt.plot(x, sol(x))"
   ]
  },
  {
   "cell_type": "code",
   "execution_count": 19,
   "metadata": {},
   "outputs": [
    {
     "data": {
      "image/png": "[encoded data removed]",
      "text/plain": [
       "<matplotlib.figure.Figure at 0x87c4550>"
      ]
     },
     "metadata": {},
     "output_type": "display_data"
    },
    {
     "name": "stdout",
     "output_type": "stream",
     "text": [
      "(6642,)\n"
     ]
    }
   ],
   "source": [
    "import matplotlib.pyplot as plt\n",
    "import math\n",
    "time = np.arange(0,len(TempAll)*h,h)\n",
    "whole, = plt.plot(time,TempAll, label = 'Shoot from %.2f F to %.2f F' %(T0, A))\n",
    "i, = plt.plot(0,T0,'r^', label = \"%.2fF\" %T0)\n",
    "f, = plt.plot(t1,T1, 'g^', label = \"%.2fF\" %T1)\n",
    "s, = plt.plot(t1+t2,T2,'b^',label = \"%.2fF\" %T2)\n",
    "t, = plt.plot(t1+t2+t3,T3,'y^',label = \"%.2fF\" %T3)\n",
    "#fr, = plt.plot(t1+t2+t3+t4,A,'^', color = \"black\",label = \"%.2fF\" %A)\n",
    "def sol(x):\n",
    "    return 33.33 + 65.55 * math.e**(-0.275093*x)\n",
    "plt.plot(time,sol(time))\n",
    "plt.legend(handles = [whole,i,f,s,t])\n",
    "plt.xlabel('Time')\n",
    "plt.ylabel('Temperature')\n",
    "plt.plot()\n",
    "plt.show()\n",
    "print(time.shape)"
   ]
  },
  {
   "cell_type": "code",
   "execution_count": 23,
   "metadata": {},
   "outputs": [
    {
     "ename": "KeyboardInterrupt",
     "evalue": "",
     "output_type": "error",
     "traceback": [
      "\u001b[1;31m---------------------------------------------------------------------------\u001b[0m",
      "\u001b[1;31mKeyboardInterrupt\u001b[0m                         Traceback (most recent call last)",
      "\u001b[1;32m<ipython-input-23-6cd49d373e24>\u001b[0m in \u001b[0;36m<module>\u001b[1;34m()\u001b[0m\n\u001b[1;32m----> 1\u001b[1;33m \u001b[0mTemp3\u001b[0m\u001b[1;33m,\u001b[0m \u001b[0mcounter\u001b[0m \u001b[1;33m=\u001b[0m \u001b[0mshoot\u001b[0m\u001b[1;33m(\u001b[0m\u001b[0mk\u001b[0m\u001b[1;33m,\u001b[0m\u001b[0mT3\u001b[0m\u001b[1;33m,\u001b[0m\u001b[1;36m34.00\u001b[0m\u001b[1;33m,\u001b[0m\u001b[1;36m0.1\u001b[0m\u001b[1;33m)\u001b[0m\u001b[1;33m\u001b[0m\u001b[0m\n\u001b[0m\u001b[0;32m      2\u001b[0m \u001b[0mprint\u001b[0m\u001b[1;33m(\u001b[0m\u001b[0mTemp3\u001b[0m\u001b[1;33m[\u001b[0m\u001b[1;33m-\u001b[0m\u001b[1;36m1\u001b[0m\u001b[1;33m]\u001b[0m\u001b[1;33m)\u001b[0m\u001b[1;33m\u001b[0m\u001b[0m\n\u001b[0;32m      3\u001b[0m \u001b[0mt4\u001b[0m \u001b[1;33m=\u001b[0m \u001b[0mh\u001b[0m \u001b[1;33m*\u001b[0m\u001b[0mcounter\u001b[0m\u001b[1;33m\u001b[0m\u001b[0m\n\u001b[0;32m      4\u001b[0m \u001b[0mprint\u001b[0m\u001b[1;33m(\u001b[0m\u001b[0mt4\u001b[0m\u001b[1;33m,\u001b[0m \u001b[1;34m\"is time from %.2f F to %.2f F\"\u001b[0m \u001b[1;33m%\u001b[0m\u001b[1;33m(\u001b[0m\u001b[0mT3\u001b[0m\u001b[1;33m,\u001b[0m\u001b[0mA\u001b[0m\u001b[1;33m)\u001b[0m\u001b[1;33m)\u001b[0m\u001b[1;33m\u001b[0m\u001b[0m\n\u001b[0;32m      5\u001b[0m \u001b[0mprint\u001b[0m\u001b[1;33m(\u001b[0m\u001b[0mcounter\u001b[0m\u001b[1;33m)\u001b[0m\u001b[1;33m\u001b[0m\u001b[0m\n",
      "\u001b[1;32m<ipython-input-1-1b2eab3efb7c>\u001b[0m in \u001b[0;36mshoot\u001b[1;34m(k, T0, T1, h)\u001b[0m\n\u001b[0;32m     25\u001b[0m     \u001b[0mTemperatures\u001b[0m\u001b[1;33m.\u001b[0m\u001b[0mappend\u001b[0m\u001b[1;33m(\u001b[0m\u001b[0mT\u001b[0m\u001b[1;33m)\u001b[0m\u001b[1;33m\u001b[0m\u001b[0m\n\u001b[0;32m     26\u001b[0m     \u001b[1;32mwhile\u001b[0m\u001b[1;33m(\u001b[0m\u001b[0mT\u001b[0m\u001b[1;33m>\u001b[0m\u001b[0mT1\u001b[0m\u001b[1;33m)\u001b[0m\u001b[1;33m:\u001b[0m\u001b[1;33m\u001b[0m\u001b[0m\n\u001b[1;32m---> 27\u001b[1;33m         \u001b[0mT\u001b[0m \u001b[1;33m=\u001b[0m \u001b[0mfindNextStep\u001b[0m\u001b[1;33m(\u001b[0m\u001b[0mT\u001b[0m\u001b[1;33m,\u001b[0m \u001b[0mk\u001b[0m\u001b[1;33m,\u001b[0m \u001b[0mh\u001b[0m\u001b[1;33m)\u001b[0m\u001b[1;33m\u001b[0m\u001b[0m\n\u001b[0m\u001b[0;32m     28\u001b[0m         \u001b[0mTemperatures\u001b[0m\u001b[1;33m.\u001b[0m\u001b[0mappend\u001b[0m\u001b[1;33m(\u001b[0m\u001b[0mT\u001b[0m\u001b[1;33m)\u001b[0m\u001b[1;33m\u001b[0m\u001b[0m\n\u001b[0;32m     29\u001b[0m         \u001b[0mcounter\u001b[0m\u001b[1;33m+=\u001b[0m\u001b[1;36m1\u001b[0m\u001b[1;33m\u001b[0m\u001b[0m\n",
      "\u001b[1;32m<ipython-input-1-1b2eab3efb7c>\u001b[0m in \u001b[0;36mfindNextStep\u001b[1;34m(T, k, h)\u001b[0m\n\u001b[0;32m     17\u001b[0m \u001b[1;32mdef\u001b[0m \u001b[0mfindNextStep\u001b[0m\u001b[1;33m(\u001b[0m\u001b[0mT\u001b[0m\u001b[1;33m,\u001b[0m\u001b[0mk\u001b[0m\u001b[1;33m,\u001b[0m \u001b[0mh\u001b[0m\u001b[1;33m)\u001b[0m\u001b[1;33m:\u001b[0m\u001b[1;33m\u001b[0m\u001b[0m\n\u001b[0;32m     18\u001b[0m     \u001b[1;31m#T = initial value\u001b[0m\u001b[1;33m\u001b[0m\u001b[1;33m\u001b[0m\u001b[0m\n\u001b[1;32m---> 19\u001b[1;33m     \u001b[1;32mreturn\u001b[0m \u001b[0mT\u001b[0m \u001b[1;33m+\u001b[0m \u001b[0mh\u001b[0m \u001b[1;33m*\u001b[0m \u001b[0mTPrime\u001b[0m\u001b[1;33m(\u001b[0m\u001b[0mk\u001b[0m\u001b[1;33m,\u001b[0m\u001b[0mT\u001b[0m\u001b[1;33m)\u001b[0m\u001b[1;33m\u001b[0m\u001b[0m\n\u001b[0m\u001b[0;32m     20\u001b[0m \u001b[1;33m\u001b[0m\u001b[0m\n\u001b[0;32m     21\u001b[0m \u001b[1;32mdef\u001b[0m \u001b[0mshoot\u001b[0m\u001b[1;33m(\u001b[0m\u001b[0mk\u001b[0m\u001b[1;33m,\u001b[0m\u001b[0mT0\u001b[0m\u001b[1;33m,\u001b[0m \u001b[0mT1\u001b[0m\u001b[1;33m,\u001b[0m \u001b[0mh\u001b[0m\u001b[1;33m)\u001b[0m\u001b[1;33m:\u001b[0m\u001b[1;33m\u001b[0m\u001b[0m\n",
      "\u001b[1;31mKeyboardInterrupt\u001b[0m: "
     ]
    }
   ],
   "source": [
    "Temp3, counter = shoot(k,T3,34.00,0.1)\n",
    "print(Temp3[-1])\n",
    "t4 = h *counter\n",
    "print(t4, \"is time from %.2f F to %.2f F\" %(T3,A))\n",
    "print(counter)"
   ]
  }
 ],
 "metadata": {
  "kernelspec": {
   "display_name": "Python 3",
   "language": "python",
   "name": "python3"
  },
  "language_info": {
   "codemirror_mode": {
    "name": "ipython",
    "version": 3
   },
   "file_extension": ".py",
   "mimetype": "text/x-python",
   "name": "python",
   "nbconvert_exporter": "python",
   "pygments_lexer": "ipython3",
   "version": "3.6.4"
  }
 },
 "nbformat": 4,
 "nbformat_minor": 2
}
