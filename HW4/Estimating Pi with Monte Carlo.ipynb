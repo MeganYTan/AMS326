{
 "cells": [
  {
   "cell_type": "code",
   "execution_count": 17,
   "metadata": {},
   "outputs": [
    {
     "name": "stdout",
     "output_type": "stream",
     "text": [
      "Using 10000000 trials, the Monte Carlo estimate of pi is 3.1414\n"
     ]
    }
   ],
   "source": [
    "#!/usr/bin/env python\n",
    "\n",
    "\"\"\"Computes an estimate of pi using Monte Carlo trials\n",
    "\n",
    "USAGE: (from shell prompt)\n",
    "    python ./monte_carlo_pi.py\n",
    "\n",
    "AUTHOR:\n",
    "    Jonathan Senning <jonathan.senning@gordon.edu>\n",
    "    Gordon College\n",
    "    Python Version: March 8, 2008\n",
    "    Adapted to shell program: October 27, 2010\n",
    "\"\"\"\n",
    "\n",
    "from pylab import *\n",
    "\n",
    "def monte_carlo_pi( n ):\n",
    "    \"\"\"Estimate pi by Monte Carlo trials\n",
    "\n",
    "    USAGE:\n",
    "        p = monte_carlo_pi( n )\n",
    "\n",
    "    INPUT:\n",
    "        n       - positive integer; number of trials (\"throws at unit square\")\n",
    "\n",
    "    OUTPUT:\n",
    "        float   - estimate of pi\n",
    "\n",
    "    NOTES:\n",
    "\n",
    "        This is based on a description in an introduction to Monte-Carlo\n",
    "        methods found at http://www.chem.unl.edu/zeng/joy/mclab/mcintro.html.\n",
    "        The idea is to estimate pi by noting that the area of a quarter of a\n",
    "        unit circle is pi/4 and that if n darts are thrown randomly into a\n",
    "        unit square the fraction of them that land in a quarter of a unit\n",
    "        circle is equal to the fraction of the square area taken up by the\n",
    "        quarter of the unit circle.\n",
    "\n",
    "            |******--------------\n",
    "            |       ****  \"miss\"|\n",
    "            |            **     |\n",
    "            |               *   |\n",
    "            |                *  |\n",
    "            |  \"hit\"          * |\n",
    "            |                 * |\n",
    "            |                  *|\n",
    "            |__________________*|\n",
    "\n",
    "    AUTHOR:\n",
    "        Jonathan R. Senning <jonathan.senning@gordon.edu>\n",
    "        Gordon College\n",
    "        Written February 15, 2005\n",
    "        Converted to Python May 21, 2008\n",
    "    \"\"\"\n",
    "    x = rand( n, 1 )\n",
    "    y = rand( n, 1 )\n",
    "\n",
    "    # Here is an explanation of the calculation which follows:\n",
    "    #  a = sqrt( x**2 + y**2 )         Computes the array of distance values\n",
    "    #  b = 1 - sign( a )\t           2 if distance is less than 1,\n",
    "    #                                         0 if distance is greater than 1\n",
    "    #  c = sum( 1 - sign( b ) ) / 2    Number of \"hits\"\n",
    "    #  4 * ( c ) / n                   Estimate of pi.\n",
    "\n",
    "    return 4 * ( sum( 1 - sign( sqrt( x**2 + y**2 ) - 1 ) ) / 2 ) / n\n",
    "\n",
    "if __name__ == \"__main__\":\n",
    "\n",
    "    n = 10000000\n",
    "    p = monte_carlo_pi( n )\n",
    "    print (\"Using %d trials, the Monte Carlo estimate of pi is %.4f\" % (n, p))"
   ]
  }
 ],
 "metadata": {
  "kernelspec": {
   "display_name": "Python 3",
   "language": "python",
   "name": "python3"
  },
  "language_info": {
   "codemirror_mode": {
    "name": "ipython",
    "version": 3
   },
   "file_extension": ".py",
   "mimetype": "text/x-python",
   "name": "python",
   "nbconvert_exporter": "python",
   "pygments_lexer": "ipython3",
   "version": "3.6.4"
  }
 },
 "nbformat": 4,
 "nbformat_minor": 2
}
