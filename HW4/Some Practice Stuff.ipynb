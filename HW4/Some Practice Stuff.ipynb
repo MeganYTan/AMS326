{
 "cells": [
  {
   "cell_type": "code",
   "execution_count": null,
   "metadata": {},
   "outputs": [],
   "source": [
    "dist = np.random.normal(mean,sd,10000)\n",
    "#plt.hist(dist)\n",
    "#plt.plot(bins, 1/(sigma * np.sqrt(2 * np.pi)) * np.exp( - (bins - mu)**2 / (2 * sigma**2) )\n",
    "xs = np.arange(-0.006,0.01,0.0001)\n",
    "ys = list()\n",
    "for i in range(len(xs)):\n",
    "    ys.append(P(xs[i],sd,mean))\n",
    "plt.plot(xs,ys)"
   ]
  },
  {
   "cell_type": "code",
   "execution_count": null,
   "metadata": {},
   "outputs": [],
   "source": [
    "#a = 5;sd\n",
    "#b = 500;mean\n",
    "#y = a.*randn(1000,1) + b;\n",
    "y = sd * np.random.rand(10000) + mean\n",
    "y = np.array(y)\n",
    "plt.hist(y)"
   ]
  }
 ],
 "metadata": {
  "kernelspec": {
   "display_name": "Python 3",
   "language": "python",
   "name": "python3"
  },
  "language_info": {
   "codemirror_mode": {
    "name": "ipython",
    "version": 3
   },
   "file_extension": ".py",
   "mimetype": "text/x-python",
   "name": "python",
   "nbconvert_exporter": "python",
   "pygments_lexer": "ipython3",
   "version": "3.6.4"
  }
 },
 "nbformat": 4,
 "nbformat_minor": 2
}
