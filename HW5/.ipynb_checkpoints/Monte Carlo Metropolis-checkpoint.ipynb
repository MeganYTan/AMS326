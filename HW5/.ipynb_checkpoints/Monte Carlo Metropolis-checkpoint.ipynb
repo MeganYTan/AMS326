{
 "cells": [
  {
   "cell_type": "code",
   "execution_count": null,
   "metadata": {},
   "outputs": [],
   "source": [
    "#\n",
    "# Hamiltonian: Harmonic potential\n",
    "#\n",
    "def hamiltonian(r):\n",
    "    pot = 0.5 * k * (r - r_eq)**2\n",
    "    return pot\n",
    "#\n",
    "# Monte Carlo code\n",
    "#\n",
    "acc = 0\n",
    "mc_dst = 0.0\n",
    "mc_dst2 = 0.0\n",
    "mc_ener = 0.0\n",
    "\n",
    "r = r_ini\n",
    "\n",
    "for point in range(1,points):\n",
    "   r_new = r + step * ( random() - 0.5 ) * 2.0\t# Move particle randomly\n",
    "   v     = hamiltonian(r)\n",
    "   v_new = hamiltonian(r_new)\n",
    "   if v_new < v:                                # Downhill move always accepted\n",
    "      r = r_new\n",
    "      v = v_new\n",
    "      acc = acc + 1\n",
    "   else:                                        # Uphill move accepted with luck\n",
    "      A_mov = exp( -beta *(v_new - v) )\n",
    "      if A_mov > random():\n",
    "         r = r_new\n",
    "         v = v_new\n",
    "         acc = acc + 1\n",
    "                                                # Update regardless of acceptance!\n",
    "   mc_dst  = mc_dst + r\n",
    "   mc_dst2 = mc_dst2 + r*r\n",
    "   mc_ener = mc_ener + v"
   ]
  }
 ],
 "metadata": {
  "kernelspec": {
   "display_name": "Python 3",
   "language": "python",
   "name": "python3"
  },
  "language_info": {
   "codemirror_mode": {
    "name": "ipython",
    "version": 3
   },
   "file_extension": ".py",
   "mimetype": "text/x-python",
   "name": "python",
   "nbconvert_exporter": "python",
   "pygments_lexer": "ipython3",
   "version": "3.6.4"
  }
 },
 "nbformat": 4,
 "nbformat_minor": 2
}
