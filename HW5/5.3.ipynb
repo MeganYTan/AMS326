{
 "cells": [
  {
   "cell_type": "code",
   "execution_count": 1,
   "metadata": {},
   "outputs": [],
   "source": [
    "import numpy as np\n",
    "import math\n",
    "xs1 = list()\n",
    "ys1 = list()\n",
    "zs1 = list()\n",
    "l = list()\n",
    "for i in range(19):\n",
    "    x = np.random.uniform(0,9)\n",
    "    y = np.random.uniform(0,19)\n",
    "    z = np.random.uniform(0,29)\n",
    "    #d = (x,y,z)\n",
    "    #l.append(d)\n",
    "    xs1.append(x)\n",
    "    ys1.append(y)\n",
    "    zs1.append(z)"
   ]
  },
  {
   "cell_type": "code",
   "execution_count": 2,
   "metadata": {
    "scrolled": true
   },
   "outputs": [
    {
     "ename": "NameError",
     "evalue": "name 'plt' is not defined",
     "output_type": "error",
     "traceback": [
      "\u001b[1;31m---------------------------------------------------------------------------\u001b[0m",
      "\u001b[1;31mNameError\u001b[0m                                 Traceback (most recent call last)",
      "\u001b[1;32m<ipython-input-2-117227dd6ab8>\u001b[0m in \u001b[0;36m<module>\u001b[1;34m()\u001b[0m\n\u001b[1;32m----> 1\u001b[1;33m \u001b[0mfig\u001b[0m \u001b[1;33m=\u001b[0m \u001b[0mplt\u001b[0m\u001b[1;33m.\u001b[0m\u001b[0mfigure\u001b[0m\u001b[1;33m(\u001b[0m\u001b[1;33m)\u001b[0m\u001b[1;33m\u001b[0m\u001b[0m\n\u001b[0m\u001b[0;32m      2\u001b[0m \u001b[0max\u001b[0m \u001b[1;33m=\u001b[0m \u001b[0mfig\u001b[0m\u001b[1;33m.\u001b[0m\u001b[0madd_subplot\u001b[0m\u001b[1;33m(\u001b[0m\u001b[1;36m111\u001b[0m\u001b[1;33m,\u001b[0m \u001b[0mprojection\u001b[0m\u001b[1;33m=\u001b[0m\u001b[1;34m'3d'\u001b[0m\u001b[1;33m)\u001b[0m\u001b[1;33m\u001b[0m\u001b[0m\n\u001b[0;32m      3\u001b[0m \u001b[0max\u001b[0m\u001b[1;33m.\u001b[0m\u001b[0mscatter\u001b[0m\u001b[1;33m(\u001b[0m\u001b[0mxs\u001b[0m\u001b[1;33m,\u001b[0m \u001b[0mys\u001b[0m\u001b[1;33m,\u001b[0m \u001b[0mzs\u001b[0m\u001b[1;33m)\u001b[0m\u001b[1;33m\u001b[0m\u001b[0m\n\u001b[0;32m      4\u001b[0m \u001b[1;33m\u001b[0m\u001b[0m\n\u001b[0;32m      5\u001b[0m \u001b[0max\u001b[0m\u001b[1;33m.\u001b[0m\u001b[0mset_xlabel\u001b[0m\u001b[1;33m(\u001b[0m\u001b[1;34m'X Label'\u001b[0m\u001b[1;33m)\u001b[0m\u001b[1;33m\u001b[0m\u001b[0m\n",
      "\u001b[1;31mNameError\u001b[0m: name 'plt' is not defined"
     ]
    }
   ],
   "source": [
    "fig = plt.figure()\n",
    "ax = fig.add_subplot(111, projection='3d')\n",
    "ax.scatter(xs, ys, zs)\n",
    "\n",
    "ax.set_xlabel('X Label')\n",
    "ax.set_ylabel('Y Label')\n",
    "ax.set_zlabel('Z Label')\n",
    "\n",
    "plt.show()"
   ]
  },
  {
   "cell_type": "code",
   "execution_count": 86,
   "metadata": {
    "scrolled": true
   },
   "outputs": [
    {
     "ename": "IndexError",
     "evalue": "list index out of range",
     "output_type": "error",
     "traceback": [
      "\u001b[1;31m---------------------------------------------------------------------------\u001b[0m",
      "\u001b[1;31mIndexError\u001b[0m                                Traceback (most recent call last)",
      "\u001b[1;32m<ipython-input-86-8bbf8a1878eb>\u001b[0m in \u001b[0;36m<module>\u001b[1;34m()\u001b[0m\n\u001b[0;32m      4\u001b[0m \u001b[0mzs\u001b[0m \u001b[1;33m=\u001b[0m \u001b[0mzs1\u001b[0m\u001b[1;33m\u001b[0m\u001b[0m\n\u001b[0;32m      5\u001b[0m \u001b[0mcitylist\u001b[0m \u001b[1;33m=\u001b[0m \u001b[0mlist\u001b[0m\u001b[1;33m(\u001b[0m\u001b[1;33m)\u001b[0m\u001b[1;33m\u001b[0m\u001b[0m\n\u001b[1;32m----> 6\u001b[1;33m \u001b[0mtup1\u001b[0m \u001b[1;33m=\u001b[0m \u001b[1;33m(\u001b[0m\u001b[0mxs\u001b[0m\u001b[1;33m[\u001b[0m\u001b[1;36m0\u001b[0m\u001b[1;33m]\u001b[0m\u001b[1;33m,\u001b[0m\u001b[0mys\u001b[0m\u001b[1;33m[\u001b[0m\u001b[1;36m0\u001b[0m\u001b[1;33m]\u001b[0m\u001b[1;33m,\u001b[0m\u001b[0mzs\u001b[0m\u001b[1;33m[\u001b[0m\u001b[1;36m0\u001b[0m\u001b[1;33m]\u001b[0m\u001b[1;33m)\u001b[0m\u001b[1;33m\u001b[0m\u001b[0m\n\u001b[0m\u001b[0;32m      7\u001b[0m \u001b[0mcitylist\u001b[0m\u001b[1;33m.\u001b[0m\u001b[0mappend\u001b[0m\u001b[1;33m(\u001b[0m\u001b[0mtup1\u001b[0m\u001b[1;33m)\u001b[0m\u001b[1;33m\u001b[0m\u001b[0m\n\u001b[0;32m      8\u001b[0m \u001b[1;32mdel\u001b[0m \u001b[0mxs\u001b[0m\u001b[1;33m[\u001b[0m\u001b[1;36m0\u001b[0m\u001b[1;33m]\u001b[0m\u001b[1;33m\u001b[0m\u001b[0m\n",
      "\u001b[1;31mIndexError\u001b[0m: list index out of range"
     ]
    }
   ],
   "source": [
    "\n",
    "xs = xs1\n",
    "ys = ys1\n",
    "zs = zs1\n",
    "citylist = list()\n",
    "tup1 = (xs[0],ys[0],zs[0])\n",
    "citylist.append(tup1)\n",
    "del xs[0]\n",
    "del ys[0]\n",
    "del zs[0]\n",
    "totDistance = 0\n",
    "for i in range(len(xs)):\n",
    "    #print(i)\n",
    "    currentcity = citylist[i]\n",
    "    counter = 0\n",
    "    distances = list()\n",
    "    #find the distances from currentcity\n",
    "    while (counter<len(xs)):\n",
    "        #print(\"counter\", counter)\n",
    "        x0 = currentcity[0]\n",
    "        y0 = currentcity[1]\n",
    "        z0 = currentcity[2]\n",
    "        x1 = xs[counter]\n",
    "        y1 = ys[counter]\n",
    "        z1 = zs[counter]\n",
    "        num1 = (x1-x0)**2  + (y1-y0)**2 + (z1-z0)**2\n",
    "        distance =math.sqrt(num1)\n",
    "        distances.append(distance)\n",
    "        mindist = min(distances)\n",
    "        #print(mindist)\n",
    "        \n",
    "        counter+=1\n",
    "        \n",
    "        #get the closest city\n",
    "    totDistance += mindist\n",
    "    index = distances.index(mindist)\n",
    "    closestcitytup = (xs[index],ys[index],zs[index])\n",
    "        #update the currentcity to the closest city \n",
    "    citylist.append(closestcitytup)\n",
    "    del xs[index]\n",
    "    del ys[index]\n",
    "    del zs[index]\n",
    "print(citylist)\n",
    "print(\"Total distance\", totDistance)"
   ]
  },
  {
   "cell_type": "code",
   "execution_count": 61,
   "metadata": {
    "scrolled": false
   },
   "outputs": [
    {
     "name": "stdout",
     "output_type": "stream",
     "text": [
      "[0, 12, 12]\n",
      "[42, 0, 34]\n",
      "i 0\n",
      "len(xs) 3\n",
      "counter 0\n",
      "distance 42.0\n",
      "distances [42.0]\n",
      "min distance 42.0\n",
      "Index 0\n",
      "counter 1\n",
      "distance 12.0\n",
      "distances [42.0, 12.0]\n",
      "min distance 12.0\n",
      "Index 1\n",
      "counter 2\n",
      "distance 36.05551275463989\n",
      "distances [42.0, 12.0, 36.05551275463989]\n",
      "min distance 12.0\n",
      "Index 1\n",
      "(12, 0)\n",
      "[0, 12]\n",
      "[42, 34]\n",
      "\n",
      "i 1\n",
      "len(xs) 2\n",
      "counter 0\n",
      "distance 43.68065933568311\n",
      "distances [43.68065933568311]\n",
      "min distance 43.68065933568311\n",
      "Index 0\n",
      "counter 1\n",
      "distance 34.0\n",
      "distances [43.68065933568311, 34.0]\n",
      "min distance 34.0\n",
      "Index 1\n",
      "(12, 34)\n",
      "[0]\n",
      "[42]\n",
      "\n",
      "i 2\n",
      "len(xs) 1\n",
      "counter 0\n",
      "distance 14.422205101855956\n",
      "distances [14.422205101855956]\n",
      "min distance 14.422205101855956\n",
      "Index 0\n",
      "(0, 42)\n",
      "[]\n",
      "[]\n",
      "\n",
      "[(0, 0), (12, 0), (12, 34), (0, 42)]\n"
     ]
    }
   ],
   "source": [
    "#2d trial\n",
    "#first generate data\n",
    "xs = [0,0,12,12]\n",
    "ys = [0,42,0,34]\n",
    "citylist = list()\n",
    "tup1 = (xs[0],ys[0])\n",
    "citylist.append(tup1)\n",
    "del xs[0]\n",
    "del ys[0]\n",
    "print(xs)\n",
    "print(ys)\n",
    "def distance(x1,y1,x2,y2,z1,z2):\n",
    "    num1 = (x2-x1)**2  + (y1-y2)**2 + (z2-z1)**2\n",
    "    return math.sqrt(num1)\n",
    "for i in range(3):\n",
    "    print(\"i\",i)\n",
    "    currentcity = citylist[i]\n",
    "    counter = 0\n",
    "    distances = list()\n",
    "    #find the distances from currentcity\n",
    "    print(\"len(xs)\",len(xs))\n",
    "    while (counter<len(xs)):\n",
    "        #if(counter != i):\n",
    "        print(\"counter\",counter)\n",
    "        x0 = currentcity[0]\n",
    "        y0 = currentcity[1]\n",
    "        #z0 = zs[0]\n",
    "        x1 = xs[counter]\n",
    "        y1 = ys[counter]\n",
    "        #z1 = zs[counter]\n",
    "        num1 = (x1-x0)**2  + (y1-y0)**2 \n",
    "        distance =math.sqrt(num1)\n",
    "        distances.append(distance)\n",
    "        print(\"distance\",distance)\n",
    "        print(\"distances\",distances)\n",
    "        mindist = min(distances)\n",
    "        print(\"min distance\",mindist)\n",
    "        print(\"Index\", distances.index(mindist))\n",
    "        counter+=1\n",
    "            #get the closest city\n",
    "    index = distances.index(mindist)\n",
    "            #closestindex = index+i\n",
    "    closestcitytup = (xs[index],ys[index])\n",
    "    print(closestcitytup)\n",
    "            #update the currentcity to the closest city \n",
    "    citylist.append(closestcitytup)\n",
    "            #delete the city from xs\n",
    "    del xs[index]\n",
    "    del ys[index]\n",
    "    print(xs)\n",
    "    print(ys)\n",
    "    \n",
    "    print()\n",
    "print(citylist)"
   ]
  }
 ],
 "metadata": {
  "kernelspec": {
   "display_name": "Python 3",
   "language": "python",
   "name": "python3"
  },
  "language_info": {
   "codemirror_mode": {
    "name": "ipython",
    "version": 3
   },
   "file_extension": ".py",
   "mimetype": "text/x-python",
   "name": "python",
   "nbconvert_exporter": "python",
   "pygments_lexer": "ipython3",
   "version": "3.6.4"
  }
 },
 "nbformat": 4,
 "nbformat_minor": 2
}
